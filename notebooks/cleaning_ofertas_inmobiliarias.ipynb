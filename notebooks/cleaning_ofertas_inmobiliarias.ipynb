{
 "cells": [
  {
   "cell_type": "markdown",
   "id": "2b12a415",
   "metadata": {},
   "source": [
    "# Limpieza y Transformación de Datos de Ofertas Inmobiliarias\n",
    "\n",
    "Este notebook documenta el proceso de limpieza y transformación de datos para el conjunto de datos de ofertas inmobiliarias.\n",
    "Se abordan los siguientes pasos:\n",
    "1. Análisis y diagnósticos de anómalias\n",
    "2. Identificación y tratamiento de valores faltantes.\n",
    "3. Conversión de tipos de datos.\n",
    "4. Eliminación de duplicados.\n",
    "5. Tratamiento de outliers.\n",
    "6. Transformación adicional de los datos según sea necesario.\n"
   ]
  },
  {
   "cell_type": "markdown",
   "id": "6f6a9b15",
   "metadata": {},
   "source": [
    "### Importamos las librerias"
   ]
  },
  {
   "cell_type": "code",
   "execution_count": 2,
   "id": "852d1187",
   "metadata": {},
   "outputs": [],
   "source": [
    "import pandas as pd\n",
    "import numpy as np"
   ]
  },
  {
   "cell_type": "markdown",
   "id": "0c02f399",
   "metadata": {},
   "source": [
    "### Análisis y diagnósticos de anómalias \n"
   ]
  },
  {
   "cell_type": "code",
   "execution_count": 3,
   "id": "c5b454a5",
   "metadata": {},
   "outputs": [
    {
     "data": {
      "text/html": [
       "<div>\n",
       "<style scoped>\n",
       "    .dataframe tbody tr th:only-of-type {\n",
       "        vertical-align: middle;\n",
       "    }\n",
       "\n",
       "    .dataframe tbody tr th {\n",
       "        vertical-align: top;\n",
       "    }\n",
       "\n",
       "    .dataframe thead th {\n",
       "        text-align: right;\n",
       "    }\n",
       "</style>\n",
       "<table border=\"1\" class=\"dataframe\">\n",
       "  <thead>\n",
       "    <tr style=\"text-align: right;\">\n",
       "      <th></th>\n",
       "      <th>Precio</th>\n",
       "      <th>Habitaciones</th>\n",
       "      <th>Baños</th>\n",
       "      <th>Parqueos</th>\n",
       "      <th>Sector</th>\n",
       "      <th>Condicion</th>\n",
       "      <th>Uso Actual</th>\n",
       "      <th>mt2</th>\n",
       "      <th>Terreno mt2</th>\n",
       "      <th>Piso/Nivel</th>\n",
       "      <th>Ascensor</th>\n",
       "      <th>Edificable</th>\n",
       "      <th>Agno Construccion</th>\n",
       "      <th>Planta Electrica</th>\n",
       "      <th>Seguridad 24 Horas</th>\n",
       "      <th>Control de Acceso</th>\n",
       "      <th>Piscina</th>\n",
       "      <th>Gimnasio</th>\n",
       "    </tr>\n",
       "  </thead>\n",
       "  <tbody>\n",
       "    <tr>\n",
       "      <th>0</th>\n",
       "      <td>950.0</td>\n",
       "      <td>1</td>\n",
       "      <td>2.0</td>\n",
       "      <td>1</td>\n",
       "      <td>El Millón</td>\n",
       "      <td>N/D</td>\n",
       "      <td>Residencial</td>\n",
       "      <td>73.0</td>\n",
       "      <td>0.0</td>\n",
       "      <td>5</td>\n",
       "      <td>True</td>\n",
       "      <td>No</td>\n",
       "      <td>N/D</td>\n",
       "      <td>False</td>\n",
       "      <td>False</td>\n",
       "      <td>False</td>\n",
       "      <td>True</td>\n",
       "      <td>True</td>\n",
       "    </tr>\n",
       "    <tr>\n",
       "      <th>1</th>\n",
       "      <td>17000.0</td>\n",
       "      <td>4</td>\n",
       "      <td>4.5</td>\n",
       "      <td>5</td>\n",
       "      <td>Av. Anacaona</td>\n",
       "      <td>Segundo Uso</td>\n",
       "      <td>Residencial</td>\n",
       "      <td>611.0</td>\n",
       "      <td>0.0</td>\n",
       "      <td>0</td>\n",
       "      <td>True</td>\n",
       "      <td>No</td>\n",
       "      <td>2020</td>\n",
       "      <td>True</td>\n",
       "      <td>True</td>\n",
       "      <td>True</td>\n",
       "      <td>True</td>\n",
       "      <td>True</td>\n",
       "    </tr>\n",
       "    <tr>\n",
       "      <th>2</th>\n",
       "      <td>11000.0</td>\n",
       "      <td>3</td>\n",
       "      <td>4.5</td>\n",
       "      <td>4</td>\n",
       "      <td>Av. Anacaona</td>\n",
       "      <td>Segundo Uso</td>\n",
       "      <td>Residencial</td>\n",
       "      <td>598.0</td>\n",
       "      <td>598.0</td>\n",
       "      <td>0</td>\n",
       "      <td>True</td>\n",
       "      <td>No</td>\n",
       "      <td>N/D</td>\n",
       "      <td>True</td>\n",
       "      <td>True</td>\n",
       "      <td>True</td>\n",
       "      <td>True</td>\n",
       "      <td>True</td>\n",
       "    </tr>\n",
       "    <tr>\n",
       "      <th>3</th>\n",
       "      <td>11000.0</td>\n",
       "      <td>3</td>\n",
       "      <td>4.5</td>\n",
       "      <td>2</td>\n",
       "      <td>Av. Anacaona</td>\n",
       "      <td>Segundo Uso</td>\n",
       "      <td>Residencial</td>\n",
       "      <td>598.0</td>\n",
       "      <td>0.0</td>\n",
       "      <td>0</td>\n",
       "      <td>True</td>\n",
       "      <td>No</td>\n",
       "      <td>N/D</td>\n",
       "      <td>True</td>\n",
       "      <td>True</td>\n",
       "      <td>True</td>\n",
       "      <td>True</td>\n",
       "      <td>True</td>\n",
       "    </tr>\n",
       "    <tr>\n",
       "      <th>4</th>\n",
       "      <td>11000.0</td>\n",
       "      <td>4</td>\n",
       "      <td>4.5</td>\n",
       "      <td>4</td>\n",
       "      <td>Av. Anacaona</td>\n",
       "      <td>Nueva</td>\n",
       "      <td>Residencial</td>\n",
       "      <td>615.0</td>\n",
       "      <td>0.0</td>\n",
       "      <td>14</td>\n",
       "      <td>True</td>\n",
       "      <td>No</td>\n",
       "      <td>2023</td>\n",
       "      <td>True</td>\n",
       "      <td>True</td>\n",
       "      <td>True</td>\n",
       "      <td>True</td>\n",
       "      <td>False</td>\n",
       "    </tr>\n",
       "  </tbody>\n",
       "</table>\n",
       "</div>"
      ],
      "text/plain": [
       "    Precio  Habitaciones  Baños  Parqueos         Sector    Condicion  \\\n",
       "0    950.0             1    2.0         1      El Millón          N/D   \n",
       "1  17000.0             4    4.5         5   Av. Anacaona  Segundo Uso   \n",
       "2  11000.0             3    4.5         4   Av. Anacaona  Segundo Uso   \n",
       "3  11000.0             3    4.5         2   Av. Anacaona  Segundo Uso   \n",
       "4  11000.0             4    4.5         4   Av. Anacaona        Nueva   \n",
       "\n",
       "    Uso Actual    mt2  Terreno mt2  Piso/Nivel  Ascensor Edificable  \\\n",
       "0  Residencial   73.0          0.0           5      True         No   \n",
       "1  Residencial  611.0          0.0           0      True         No   \n",
       "2  Residencial  598.0        598.0           0      True         No   \n",
       "3  Residencial  598.0          0.0           0      True         No   \n",
       "4  Residencial  615.0          0.0          14      True         No   \n",
       "\n",
       "  Agno Construccion  Planta Electrica  Seguridad 24 Horas  Control de Acceso  \\\n",
       "0               N/D             False               False              False   \n",
       "1              2020              True                True               True   \n",
       "2               N/D              True                True               True   \n",
       "3               N/D              True                True               True   \n",
       "4              2023              True                True               True   \n",
       "\n",
       "   Piscina  Gimnasio  \n",
       "0     True      True  \n",
       "1     True      True  \n",
       "2     True      True  \n",
       "3     True      True  \n",
       "4     True     False  "
      ]
     },
     "execution_count": 3,
     "metadata": {},
     "output_type": "execute_result"
    }
   ],
   "source": [
    "\n",
    "# Cargar el dataset\n",
    "file_path = '../data/raw/ofertas_inmobiliarias.csv'\n",
    "df = pd.read_csv(file_path)\n",
    "\n",
    "# Mostrar las primeras filas\n",
    "df.head()\n",
    "\n"
   ]
  },
  {
   "cell_type": "code",
   "execution_count": 4,
   "id": "e43aa850",
   "metadata": {},
   "outputs": [
    {
     "data": {
      "text/plain": [
       "(1000, 18)"
      ]
     },
     "execution_count": 4,
     "metadata": {},
     "output_type": "execute_result"
    }
   ],
   "source": [
    "df.shape #Tiene 1000 registros y 18 variables"
   ]
  },
  {
   "cell_type": "code",
   "execution_count": 5,
   "id": "88c6caa3",
   "metadata": {},
   "outputs": [
    {
     "data": {
      "text/plain": [
       "Precio                0\n",
       "Habitaciones          0\n",
       "Baños                 0\n",
       "Parqueos              0\n",
       "Sector                0\n",
       "Condicion             0\n",
       "Uso Actual            0\n",
       "mt2                   0\n",
       "Terreno mt2           0\n",
       "Piso/Nivel            0\n",
       "Ascensor              0\n",
       "Edificable            0\n",
       "Agno Construccion     0\n",
       "Planta Electrica      0\n",
       "Seguridad 24 Horas    0\n",
       "Control de Acceso     0\n",
       "Piscina               0\n",
       "Gimnasio              0\n",
       "dtype: int64"
      ]
     },
     "execution_count": 5,
     "metadata": {},
     "output_type": "execute_result"
    }
   ],
   "source": [
    "\n",
    "# Revisión de valores faltantes y tipos de datos\n",
    "missing_values = df.isnull().sum()\n",
    "data_types = df.dtypes\n",
    "\n",
    "missing_values #datos faltantes\n",
    "\n"
   ]
  },
  {
   "cell_type": "code",
   "execution_count": 6,
   "id": "398554a7",
   "metadata": {},
   "outputs": [
    {
     "data": {
      "text/plain": [
       "Precio                float64\n",
       "Habitaciones            int64\n",
       "Baños                 float64\n",
       "Parqueos                int64\n",
       "Sector                 object\n",
       "Condicion              object\n",
       "Uso Actual             object\n",
       "mt2                   float64\n",
       "Terreno mt2           float64\n",
       "Piso/Nivel              int64\n",
       "Ascensor                 bool\n",
       "Edificable             object\n",
       "Agno Construccion      object\n",
       "Planta Electrica         bool\n",
       "Seguridad 24 Horas       bool\n",
       "Control de Acceso        bool\n",
       "Piscina                  bool\n",
       "Gimnasio                 bool\n",
       "dtype: object"
      ]
     },
     "execution_count": 6,
     "metadata": {},
     "output_type": "execute_result"
    }
   ],
   "source": [
    "data_types  #tipos de datos"
   ]
  },
  {
   "cell_type": "code",
   "execution_count": 7,
   "id": "9e003ade",
   "metadata": {},
   "outputs": [
    {
     "data": {
      "text/plain": [
       "{'Sector': array(['  Arroyo Hondo Viejo', ' 30 de mayo', ' Altos De Arroyo Hondo II',\n",
       "        ' Altos de Arroyo Hondo III', ' Arroyo Manzano', ' Atala',\n",
       "        ' Autopista Duarte', ' Av. Anacaona', ' Av. Cayetano Germosén',\n",
       "        ' Av. Independencia', ' Av. Máximo Gómez',\n",
       "        ' Av. República de Colombia', ' Bella Vista', ' Bella Vista Norte',\n",
       "        ' Bella Vista Sur', ' Buenos Aires del Mirador',\n",
       "        ' Centro de los Heroes', ' Ciudad Colonial', ' Ciudad Real',\n",
       "        ' Ciudad Real II', ' Colinas de Arroyo Hondo II', ' Costa Azul',\n",
       "        ' El Cacique', ' El Milloncito', ' El Millón', ' El Vergel',\n",
       "        ' Enriquillo', ' Ensanche La Fé', ' Ensanche Naco',\n",
       "        ' Ensanche Paraíso', ' Ensanche Quisqueya', ' Evaristo Morales',\n",
       "        ' Gazcue', ' Jardines del Embajador', ' Julieta Morales',\n",
       "        ' La Castellana', ' La Esperilla', ' La Julia',\n",
       "        ' Las Colinas de Los Rios', ' Las Praderas', ' Los Cacicazgos',\n",
       "        ' Los Jardines del Sur', ' Los Prados', ' Los Restauradores',\n",
       "        ' Los Rios', ' Malecón', ' Mirador Norte', ' Mirador Sur',\n",
       "        ' Miramar', ' Piantini', ' Renacimiento', ' San Gerónimo',\n",
       "        ' Serrallés', ' Urb. Real', ' Urbanización Fernández',\n",
       "        ' Zona Universitaria'], dtype=object),\n",
       " 'Condicion': array(['En Construcción', 'N/D', 'Nueva', 'Remodelada', 'Segundo Uso'],\n",
       "       dtype=object),\n",
       " 'Uso Actual': array(['Comercial', 'Mixto', 'N/D', 'Residencial'], dtype=object),\n",
       " 'Ascensor': array([False,  True]),\n",
       " 'Edificable': array(['No', 'Sí'], dtype=object),\n",
       " 'Agno Construccion': array(['1978', '1990', '1992', '2000', '2002', '2005', '2008', '2009',\n",
       "        '2010', '2012', '2013', '2014', '2015', '2016', '2017', '2018',\n",
       "        '2019', '2020', '2021', '2022', '2023', '2024', 'N/D'],\n",
       "       dtype=object),\n",
       " 'Planta Electrica': array([False,  True]),\n",
       " 'Seguridad 24 Horas': array([False,  True]),\n",
       " 'Control de Acceso': array([False,  True]),\n",
       " 'Piscina': array([False,  True]),\n",
       " 'Gimnasio': array([False,  True])}"
      ]
     },
     "execution_count": 7,
     "metadata": {},
     "output_type": "execute_result"
    }
   ],
   "source": [
    "df_filtered = df.select_dtypes(include=['bool', 'object'])\n",
    "unicos = {}\n",
    "for column in df_filtered.columns:\n",
    "    unique_values = np.unique(df_filtered[column])\n",
    "    unicos[column] = unique_values\n",
    "    \n",
    "unicos"
   ]
  },
  {
   "cell_type": "markdown",
   "id": "56431c6f",
   "metadata": {},
   "source": [
    "### Tratamiento de valores faltantes"
   ]
  },
  {
   "cell_type": "markdown",
   "id": "1ffe9f66",
   "metadata": {},
   "source": [
    "Vemos que no hemos detectado ningun valor faltante ya que este no era tratado como NA sino como \"N/D\". Remplacemos y volvamos a verificar la cantidad de nulos"
   ]
  },
  {
   "cell_type": "code",
   "execution_count": 8,
   "id": "adaaf672",
   "metadata": {},
   "outputs": [
    {
     "data": {
      "text/plain": [
       "Precio                  0\n",
       "Habitaciones            0\n",
       "Baños                   0\n",
       "Parqueos                0\n",
       "Sector                  0\n",
       "Condicion              31\n",
       "Uso Actual             20\n",
       "mt2                     0\n",
       "Terreno mt2             0\n",
       "Piso/Nivel              0\n",
       "Ascensor                0\n",
       "Edificable              0\n",
       "Agno Construccion     743\n",
       "Planta Electrica        0\n",
       "Seguridad 24 Horas      0\n",
       "Control de Acceso       0\n",
       "Piscina                 0\n",
       "Gimnasio                0\n",
       "dtype: int64"
      ]
     },
     "execution_count": 8,
     "metadata": {},
     "output_type": "execute_result"
    }
   ],
   "source": [
    "# Reemplazar 'N/D' con NaN para un mejor manejo\n",
    "df.replace('N/D', pd.NA, inplace=True)\n",
    "missing_values = df.isnull().sum()\n",
    "\n",
    "missing_values"
   ]
  },
  {
   "cell_type": "markdown",
   "id": "004fc8a8",
   "metadata": {},
   "source": [
    "Podemos observar que de 1000 registros, años de construccion tiene 743 faltantes lo que es un 74.3% del total\n",
    "\n",
    "Igualmente condicion, uso actual poseen algunos valores faltantes pero en un porcentaje manejable\n"
   ]
  },
  {
   "cell_type": "markdown",
   "id": "f8fb0681",
   "metadata": {},
   "source": [
    "Imputemos la variable año de construccion con la siguiente estrategia: Agrupemos por sector y calculemos la media de años para imputar con este numero los valores faltantes"
   ]
  },
  {
   "cell_type": "code",
   "execution_count": 9,
   "id": "6266ae8c",
   "metadata": {},
   "outputs": [],
   "source": [
    "# Convertir la columna 'Agno Construccion' a tipo numérico\n",
    "df['Agno Construccion'] = pd.to_numeric(df['Agno Construccion'], errors='coerce') #Transformamos a numeros\n",
    "\n",
    "# Obtener la mediana general para usarla en caso de que algún grupo esté vacío\n",
    "global_median = df['Agno Construccion'].median()\n",
    "\n"
   ]
  },
  {
   "cell_type": "code",
   "execution_count": 10,
   "id": "44a3d272",
   "metadata": {},
   "outputs": [
    {
     "data": {
      "text/plain": [
       "array([1978. , 1990. , 1992. , 2000. , 2002. , 2005. , 2007.5, 2008. ,\n",
       "       2009. , 2010. , 2012. , 2013. , 2014. , 2015. , 2016. , 2017. ,\n",
       "       2018. , 2019. , 2020. , 2021. , 2022. , 2022.5, 2023. , 2024. ])"
      ]
     },
     "execution_count": 10,
     "metadata": {},
     "output_type": "execute_result"
    }
   ],
   "source": [
    "\n",
    "# Imputar valores faltantes por la mediana dentro de cada 'Sector'\n",
    "def safe_median(x):\n",
    "    if x.notna().sum() > 0:  # Si el grupo tiene al menos un valor no nulo\n",
    "        return x.fillna(x.median())\n",
    "    else:\n",
    "        return x.fillna(global_median)  # Si el grupo está vacío, usar la mediana global\n",
    "\n",
    "df['Agno Construccion'] = df.groupby('Sector')['Agno Construccion'].transform(safe_median)\n",
    "\n",
    "np.unique(df[\"Agno Construccion\"])"
   ]
  },
  {
   "cell_type": "markdown",
   "id": "db2fd12a",
   "metadata": {},
   "source": [
    "Imputemos por la moda a las variables condicion y uso actual"
   ]
  },
  {
   "cell_type": "code",
   "execution_count": 11,
   "id": "c0312399",
   "metadata": {},
   "outputs": [
    {
     "data": {
      "text/plain": [
       "array(['En Construcción', 'Nueva', 'Remodelada', 'Segundo Uso'],\n",
       "      dtype=object)"
      ]
     },
     "execution_count": 11,
     "metadata": {},
     "output_type": "execute_result"
    }
   ],
   "source": [
    "categorical_columns = df.select_dtypes(include=['object']).columns\n",
    "df[categorical_columns] = df[categorical_columns].apply(lambda col: col.fillna(col.mode()[0]))\n",
    "\n",
    "np.unique(df[\"Condicion\"])"
   ]
  },
  {
   "cell_type": "code",
   "execution_count": 12,
   "id": "e1b41032",
   "metadata": {},
   "outputs": [
    {
     "data": {
      "text/plain": [
       "array(['Comercial', 'Mixto', 'Residencial'], dtype=object)"
      ]
     },
     "execution_count": 12,
     "metadata": {},
     "output_type": "execute_result"
    }
   ],
   "source": [
    "np.unique(df[\"Uso Actual\"])"
   ]
  },
  {
   "cell_type": "code",
   "execution_count": 13,
   "id": "7f346bfd",
   "metadata": {},
   "outputs": [
    {
     "data": {
      "text/plain": [
       "Precio                0\n",
       "Habitaciones          0\n",
       "Baños                 0\n",
       "Parqueos              0\n",
       "Sector                0\n",
       "Condicion             0\n",
       "Uso Actual            0\n",
       "mt2                   0\n",
       "Terreno mt2           0\n",
       "Piso/Nivel            0\n",
       "Ascensor              0\n",
       "Edificable            0\n",
       "Agno Construccion     0\n",
       "Planta Electrica      0\n",
       "Seguridad 24 Horas    0\n",
       "Control de Acceso     0\n",
       "Piscina               0\n",
       "Gimnasio              0\n",
       "dtype: int64"
      ]
     },
     "execution_count": 13,
     "metadata": {},
     "output_type": "execute_result"
    }
   ],
   "source": [
    "#Volvemos a verificar la cantidad de nulos en nuestras variables\n",
    "missing_values = df.isnull().sum()\n",
    "\n",
    "missing_values"
   ]
  },
  {
   "cell_type": "markdown",
   "id": "da66c45e",
   "metadata": {},
   "source": [
    "Las variables numericas tambien podrian presentar valores faltantes, por la naturaleza de la pagina web estos valores faltantes se representaban como 0. Reemplacemos estos 0 por NA"
   ]
  },
  {
   "cell_type": "code",
   "execution_count": 14,
   "id": "9dae25f5",
   "metadata": {},
   "outputs": [
    {
     "data": {
      "text/html": [
       "<div>\n",
       "<style scoped>\n",
       "    .dataframe tbody tr th:only-of-type {\n",
       "        vertical-align: middle;\n",
       "    }\n",
       "\n",
       "    .dataframe tbody tr th {\n",
       "        vertical-align: top;\n",
       "    }\n",
       "\n",
       "    .dataframe thead th {\n",
       "        text-align: right;\n",
       "    }\n",
       "</style>\n",
       "<table border=\"1\" class=\"dataframe\">\n",
       "  <thead>\n",
       "    <tr style=\"text-align: right;\">\n",
       "      <th></th>\n",
       "      <th>Precio</th>\n",
       "      <th>Habitaciones</th>\n",
       "      <th>Baños</th>\n",
       "      <th>Parqueos</th>\n",
       "      <th>mt2</th>\n",
       "      <th>Terreno mt2</th>\n",
       "      <th>Piso/Nivel</th>\n",
       "      <th>Agno Construccion</th>\n",
       "    </tr>\n",
       "  </thead>\n",
       "  <tbody>\n",
       "    <tr>\n",
       "      <th>count</th>\n",
       "      <td>1000.000000</td>\n",
       "      <td>1000.000000</td>\n",
       "      <td>1000.000000</td>\n",
       "      <td>1000.000000</td>\n",
       "      <td>1000.000000</td>\n",
       "      <td>1000.000000</td>\n",
       "      <td>1000.000000</td>\n",
       "      <td>1000.00000</td>\n",
       "    </tr>\n",
       "    <tr>\n",
       "      <th>mean</th>\n",
       "      <td>2265.928183</td>\n",
       "      <td>2.099000</td>\n",
       "      <td>2.389500</td>\n",
       "      <td>1.760000</td>\n",
       "      <td>121.335000</td>\n",
       "      <td>14.346000</td>\n",
       "      <td>3.827000</td>\n",
       "      <td>2021.70400</td>\n",
       "    </tr>\n",
       "    <tr>\n",
       "      <th>std</th>\n",
       "      <td>9128.045584</td>\n",
       "      <td>0.870607</td>\n",
       "      <td>0.826573</td>\n",
       "      <td>0.718969</td>\n",
       "      <td>110.735284</td>\n",
       "      <td>60.545719</td>\n",
       "      <td>4.199131</td>\n",
       "      <td>3.08373</td>\n",
       "    </tr>\n",
       "    <tr>\n",
       "      <th>min</th>\n",
       "      <td>0.016667</td>\n",
       "      <td>1.000000</td>\n",
       "      <td>1.000000</td>\n",
       "      <td>1.000000</td>\n",
       "      <td>0.000000</td>\n",
       "      <td>0.000000</td>\n",
       "      <td>0.000000</td>\n",
       "      <td>1978.00000</td>\n",
       "    </tr>\n",
       "    <tr>\n",
       "      <th>25%</th>\n",
       "      <td>1000.000000</td>\n",
       "      <td>1.000000</td>\n",
       "      <td>1.500000</td>\n",
       "      <td>1.000000</td>\n",
       "      <td>63.000000</td>\n",
       "      <td>0.000000</td>\n",
       "      <td>0.000000</td>\n",
       "      <td>2021.00000</td>\n",
       "    </tr>\n",
       "    <tr>\n",
       "      <th>50%</th>\n",
       "      <td>1300.000000</td>\n",
       "      <td>2.000000</td>\n",
       "      <td>2.500000</td>\n",
       "      <td>2.000000</td>\n",
       "      <td>107.500000</td>\n",
       "      <td>0.000000</td>\n",
       "      <td>3.000000</td>\n",
       "      <td>2022.50000</td>\n",
       "    </tr>\n",
       "    <tr>\n",
       "      <th>75%</th>\n",
       "      <td>2000.000000</td>\n",
       "      <td>3.000000</td>\n",
       "      <td>3.000000</td>\n",
       "      <td>2.000000</td>\n",
       "      <td>167.000000</td>\n",
       "      <td>0.000000</td>\n",
       "      <td>6.000000</td>\n",
       "      <td>2023.00000</td>\n",
       "    </tr>\n",
       "    <tr>\n",
       "      <th>max</th>\n",
       "      <td>200000.000000</td>\n",
       "      <td>10.000000</td>\n",
       "      <td>5.500000</td>\n",
       "      <td>6.000000</td>\n",
       "      <td>869.000000</td>\n",
       "      <td>854.000000</td>\n",
       "      <td>27.000000</td>\n",
       "      <td>2024.00000</td>\n",
       "    </tr>\n",
       "  </tbody>\n",
       "</table>\n",
       "</div>"
      ],
      "text/plain": [
       "              Precio  Habitaciones        Baños     Parqueos          mt2  \\\n",
       "count    1000.000000   1000.000000  1000.000000  1000.000000  1000.000000   \n",
       "mean     2265.928183      2.099000     2.389500     1.760000   121.335000   \n",
       "std      9128.045584      0.870607     0.826573     0.718969   110.735284   \n",
       "min         0.016667      1.000000     1.000000     1.000000     0.000000   \n",
       "25%      1000.000000      1.000000     1.500000     1.000000    63.000000   \n",
       "50%      1300.000000      2.000000     2.500000     2.000000   107.500000   \n",
       "75%      2000.000000      3.000000     3.000000     2.000000   167.000000   \n",
       "max    200000.000000     10.000000     5.500000     6.000000   869.000000   \n",
       "\n",
       "       Terreno mt2   Piso/Nivel  Agno Construccion  \n",
       "count  1000.000000  1000.000000         1000.00000  \n",
       "mean     14.346000     3.827000         2021.70400  \n",
       "std      60.545719     4.199131            3.08373  \n",
       "min       0.000000     0.000000         1978.00000  \n",
       "25%       0.000000     0.000000         2021.00000  \n",
       "50%       0.000000     3.000000         2022.50000  \n",
       "75%       0.000000     6.000000         2023.00000  \n",
       "max     854.000000    27.000000         2024.00000  "
      ]
     },
     "execution_count": 14,
     "metadata": {},
     "output_type": "execute_result"
    }
   ],
   "source": [
    "df.describe()"
   ]
  },
  {
   "cell_type": "markdown",
   "id": "09aaa836",
   "metadata": {},
   "source": [
    "Aca observamos anomalias en mt2, terreno mt2 y en Piso/Nivel. Donde estas variables no deberian ser nulas.\n",
    "\n",
    "Verifiquemos cuantos hay con la categoria piso = 0. y verifiquemos si existe la categoria piso = 1. Para evitar confusiones de que el 0 represente primer nivel\n"
   ]
  },
  {
   "cell_type": "code",
   "execution_count": 15,
   "id": "650e2487",
   "metadata": {},
   "outputs": [
    {
     "name": "stdout",
     "output_type": "stream",
     "text": [
      "16\n"
     ]
    }
   ],
   "source": [
    "print(len(df[df[\"Piso/Nivel\"] == 1])) # Hay 16 ofertas que tienen como piso el primero"
   ]
  },
  {
   "cell_type": "code",
   "execution_count": 16,
   "id": "c5195e50",
   "metadata": {},
   "outputs": [
    {
     "name": "stdout",
     "output_type": "stream",
     "text": [
      "343\n"
     ]
    }
   ],
   "source": [
    "print(len(df[df[\"Piso/Nivel\"] == 0])) # Hay 343 ofertas que tienen como piso el 0"
   ]
  },
  {
   "cell_type": "markdown",
   "id": "fb4d53c9",
   "metadata": {},
   "source": [
    "Reemplacemos los 0 por NA en mt2, Terreno mt2 y Piso/nivel"
   ]
  },
  {
   "cell_type": "code",
   "execution_count": 18,
   "id": "f91da7a4",
   "metadata": {},
   "outputs": [],
   "source": [
    "df['mt2'] = df['mt2'].replace(0, np.nan) # Metros cuadrados"
   ]
  },
  {
   "cell_type": "code",
   "execution_count": 19,
   "id": "ebd09b16",
   "metadata": {},
   "outputs": [],
   "source": [
    "df['Terreno mt2'] = df['Terreno mt2'].replace(0, np.nan) # Terreno en mt2"
   ]
  },
  {
   "cell_type": "code",
   "execution_count": 17,
   "id": "dbe0dfc7",
   "metadata": {},
   "outputs": [],
   "source": [
    "df['Piso/Nivel'] = df['Piso/Nivel'].replace(0, np.nan) # Piso/nivel "
   ]
  },
  {
   "cell_type": "markdown",
   "id": "2b64fba7",
   "metadata": {},
   "source": [
    "Verifiquemos los resultados:"
   ]
  },
  {
   "cell_type": "code",
   "execution_count": 21,
   "id": "6cda66c1",
   "metadata": {},
   "outputs": [
    {
     "data": {
      "text/plain": [
       "Precio                  0\n",
       "Habitaciones            0\n",
       "Baños                   0\n",
       "Parqueos                0\n",
       "Sector                  0\n",
       "Condicion               0\n",
       "Uso Actual              0\n",
       "mt2                   190\n",
       "Terreno mt2           892\n",
       "Piso/Nivel            333\n",
       "Ascensor                0\n",
       "Edificable              0\n",
       "Agno Construccion       0\n",
       "Planta Electrica        0\n",
       "Seguridad 24 Horas      0\n",
       "Control de Acceso       0\n",
       "Piscina                 0\n",
       "Gimnasio                0\n",
       "dtype: int64"
      ]
     },
     "execution_count": 21,
     "metadata": {},
     "output_type": "execute_result"
    }
   ],
   "source": [
    "#Cantidad de nulos\n",
    "missing_values = df.isnull().sum()\n",
    "\n",
    "missing_values"
   ]
  },
  {
   "cell_type": "markdown",
   "id": "9781fa4a",
   "metadata": {},
   "source": [
    "Imputemos por la media segun sector a los metros cuadrados para rellenar los valores faltantes"
   ]
  },
  {
   "cell_type": "code",
   "execution_count": 22,
   "id": "fdf1e581",
   "metadata": {},
   "outputs": [],
   "source": [
    "df['mt2'] = df.groupby('Sector')['mt2'].transform(lambda x: x.fillna(x.mean()))"
   ]
  },
  {
   "cell_type": "markdown",
   "id": "fe442676",
   "metadata": {},
   "source": [
    "Consideraremos eliminar la variable Terreno mt2, esto es debido a que en investigaciones de la pagina web, o los vendedores no consideran relevante al vender inmuebles y no territorio, o los que si aparecen publicados tienen numeros coincidentes con el de metros cuadrados, por lo que crea redundancia y no agrega valor a posterior"
   ]
  },
  {
   "cell_type": "markdown",
   "id": "d8d740bd",
   "metadata": {},
   "source": [
    "Ej:\n",
    "![image.png](img/Eje1.png)"
   ]
  },
  {
   "cell_type": "code",
   "execution_count": 23,
   "id": "e8467cdd",
   "metadata": {},
   "outputs": [],
   "source": [
    "df.drop('Terreno mt2', axis=1, inplace=True) #Eliminamos la variable \"Terreno mt2\"\n"
   ]
  },
  {
   "cell_type": "markdown",
   "id": "75c4ece6",
   "metadata": {},
   "source": [
    "### Remover duplicados"
   ]
  },
  {
   "cell_type": "code",
   "execution_count": 20,
   "id": "c9e874cb",
   "metadata": {},
   "outputs": [
    {
     "data": {
      "text/plain": [
       "974"
      ]
     },
     "execution_count": 20,
     "metadata": {},
     "output_type": "execute_result"
    }
   ],
   "source": [
    "# Remover duplicados\n",
    "df = df.drop_duplicates()\n",
    "len(df)"
   ]
  },
  {
   "cell_type": "markdown",
   "id": "5ce918b4",
   "metadata": {},
   "source": [
    "Hemos eliminado 26 registros duplicados"
   ]
  },
  {
   "cell_type": "markdown",
   "id": "17877f0e",
   "metadata": {},
   "source": [
    "### Manejo de outliers"
   ]
  },
  {
   "cell_type": "code",
   "execution_count": 62,
   "id": "adec604c",
   "metadata": {},
   "outputs": [
    {
     "data": {
      "text/plain": [
       "count       974.000000\n",
       "mean       2287.674384\n",
       "std        9247.497375\n",
       "min           0.016667\n",
       "25%        1000.000000\n",
       "50%        1350.000000\n",
       "75%        2000.000000\n",
       "max      200000.000000\n",
       "Name: Precio, dtype: float64"
      ]
     },
     "execution_count": 62,
     "metadata": {},
     "output_type": "execute_result"
    }
   ],
   "source": [
    "df[\"Precio\"].describe()"
   ]
  },
  {
   "cell_type": "markdown",
   "id": "787c537e",
   "metadata": {},
   "source": [
    "Vemos en el precio que la media es alrededor de 2300 dolares mensual, pero vemos algunas anomalias como puede ser 0.01 dolar  y un precio maximo de 200,000$ dolares mensual. \n",
    "\n",
    "Esto concuerda con algunas anomalias que hemos observado al hacer el analisis a la pagina web, donde algunos vendedores se confundian de moneda y publicaban ej: US$30,000/mes, y mas abajo en la observacion se veia la rectificacion a pesos. O tambien el error de tipeo donde se publica US$13,000/mes cuando realmente queria transmitir US$1,300/mes y este se observa la rectificacion tambien en la observacion."
   ]
  },
  {
   "cell_type": "code",
   "execution_count": 64,
   "id": "5c8bce82",
   "metadata": {},
   "outputs": [
    {
     "data": {
      "text/plain": [
       "count    974.000000\n",
       "mean     122.146817\n",
       "std      111.741590\n",
       "min        0.000000\n",
       "25%       63.000000\n",
       "50%      108.000000\n",
       "75%      169.000000\n",
       "max      869.000000\n",
       "Name: mt2, dtype: float64"
      ]
     },
     "execution_count": 64,
     "metadata": {},
     "output_type": "execute_result"
    }
   ],
   "source": []
  },
  {
   "cell_type": "code",
   "execution_count": 3,
   "id": "c591d673",
   "metadata": {},
   "outputs": [
    {
     "data": {
      "text/html": [
       "<div>\n",
       "<style scoped>\n",
       "    .dataframe tbody tr th:only-of-type {\n",
       "        vertical-align: middle;\n",
       "    }\n",
       "\n",
       "    .dataframe tbody tr th {\n",
       "        vertical-align: top;\n",
       "    }\n",
       "\n",
       "    .dataframe thead th {\n",
       "        text-align: right;\n",
       "    }\n",
       "</style>\n",
       "<table border=\"1\" class=\"dataframe\">\n",
       "  <thead>\n",
       "    <tr style=\"text-align: right;\">\n",
       "      <th></th>\n",
       "      <th>Precio</th>\n",
       "      <th>Habitaciones</th>\n",
       "      <th>Baños</th>\n",
       "      <th>Parqueos</th>\n",
       "      <th>Sector</th>\n",
       "      <th>Condicion</th>\n",
       "      <th>Uso Actual</th>\n",
       "      <th>mt2</th>\n",
       "      <th>Terreno mt2</th>\n",
       "      <th>Piso/Nivel</th>\n",
       "      <th>Ascensor</th>\n",
       "      <th>Edificable</th>\n",
       "      <th>Agno Construccion</th>\n",
       "      <th>Planta Electrica</th>\n",
       "      <th>Seguridad 24 Horas</th>\n",
       "      <th>Control de Acceso</th>\n",
       "      <th>Piscina</th>\n",
       "      <th>Gimnasio</th>\n",
       "    </tr>\n",
       "  </thead>\n",
       "  <tbody>\n",
       "    <tr>\n",
       "      <th>0</th>\n",
       "      <td>950.0</td>\n",
       "      <td>1</td>\n",
       "      <td>2.0</td>\n",
       "      <td>1</td>\n",
       "      <td>El Millón</td>\n",
       "      <td>Segundo Uso</td>\n",
       "      <td>Residencial</td>\n",
       "      <td>73.00</td>\n",
       "      <td>0.0</td>\n",
       "      <td>5</td>\n",
       "      <td>True</td>\n",
       "      <td>No</td>\n",
       "      <td>2024</td>\n",
       "      <td>False</td>\n",
       "      <td>False</td>\n",
       "      <td>False</td>\n",
       "      <td>True</td>\n",
       "      <td>True</td>\n",
       "    </tr>\n",
       "    <tr>\n",
       "      <th>1</th>\n",
       "      <td>10640.0</td>\n",
       "      <td>4</td>\n",
       "      <td>4.5</td>\n",
       "      <td>5</td>\n",
       "      <td>Av. Anacaona</td>\n",
       "      <td>Segundo Uso</td>\n",
       "      <td>Residencial</td>\n",
       "      <td>608.84</td>\n",
       "      <td>0.0</td>\n",
       "      <td>0</td>\n",
       "      <td>True</td>\n",
       "      <td>No</td>\n",
       "      <td>2020</td>\n",
       "      <td>True</td>\n",
       "      <td>True</td>\n",
       "      <td>True</td>\n",
       "      <td>True</td>\n",
       "      <td>True</td>\n",
       "    </tr>\n",
       "    <tr>\n",
       "      <th>2</th>\n",
       "      <td>10640.0</td>\n",
       "      <td>3</td>\n",
       "      <td>4.5</td>\n",
       "      <td>4</td>\n",
       "      <td>Av. Anacaona</td>\n",
       "      <td>Segundo Uso</td>\n",
       "      <td>Residencial</td>\n",
       "      <td>598.00</td>\n",
       "      <td>598.0</td>\n",
       "      <td>0</td>\n",
       "      <td>True</td>\n",
       "      <td>No</td>\n",
       "      <td>2024</td>\n",
       "      <td>True</td>\n",
       "      <td>True</td>\n",
       "      <td>True</td>\n",
       "      <td>True</td>\n",
       "      <td>True</td>\n",
       "    </tr>\n",
       "    <tr>\n",
       "      <th>3</th>\n",
       "      <td>10640.0</td>\n",
       "      <td>3</td>\n",
       "      <td>4.5</td>\n",
       "      <td>2</td>\n",
       "      <td>Av. Anacaona</td>\n",
       "      <td>Segundo Uso</td>\n",
       "      <td>Residencial</td>\n",
       "      <td>598.00</td>\n",
       "      <td>0.0</td>\n",
       "      <td>0</td>\n",
       "      <td>True</td>\n",
       "      <td>No</td>\n",
       "      <td>2024</td>\n",
       "      <td>True</td>\n",
       "      <td>True</td>\n",
       "      <td>True</td>\n",
       "      <td>True</td>\n",
       "      <td>True</td>\n",
       "    </tr>\n",
       "    <tr>\n",
       "      <th>4</th>\n",
       "      <td>10640.0</td>\n",
       "      <td>4</td>\n",
       "      <td>4.5</td>\n",
       "      <td>4</td>\n",
       "      <td>Av. Anacaona</td>\n",
       "      <td>Nueva</td>\n",
       "      <td>Residencial</td>\n",
       "      <td>608.84</td>\n",
       "      <td>0.0</td>\n",
       "      <td>14</td>\n",
       "      <td>True</td>\n",
       "      <td>No</td>\n",
       "      <td>2023</td>\n",
       "      <td>True</td>\n",
       "      <td>True</td>\n",
       "      <td>True</td>\n",
       "      <td>True</td>\n",
       "      <td>False</td>\n",
       "    </tr>\n",
       "  </tbody>\n",
       "</table>\n",
       "</div>"
      ],
      "text/plain": [
       "    Precio  Habitaciones  Baños  Parqueos         Sector    Condicion  \\\n",
       "0    950.0             1    2.0         1      El Millón  Segundo Uso   \n",
       "1  10640.0             4    4.5         5   Av. Anacaona  Segundo Uso   \n",
       "2  10640.0             3    4.5         4   Av. Anacaona  Segundo Uso   \n",
       "3  10640.0             3    4.5         2   Av. Anacaona  Segundo Uso   \n",
       "4  10640.0             4    4.5         4   Av. Anacaona        Nueva   \n",
       "\n",
       "    Uso Actual     mt2  Terreno mt2  Piso/Nivel  Ascensor Edificable  \\\n",
       "0  Residencial   73.00          0.0           5      True         No   \n",
       "1  Residencial  608.84          0.0           0      True         No   \n",
       "2  Residencial  598.00        598.0           0      True         No   \n",
       "3  Residencial  598.00          0.0           0      True         No   \n",
       "4  Residencial  608.84          0.0          14      True         No   \n",
       "\n",
       "   Agno Construccion  Planta Electrica  Seguridad 24 Horas  Control de Acceso  \\\n",
       "0               2024             False               False              False   \n",
       "1               2020              True                True               True   \n",
       "2               2024              True                True               True   \n",
       "3               2024              True                True               True   \n",
       "4               2023              True                True               True   \n",
       "\n",
       "   Piscina  Gimnasio  \n",
       "0     True      True  \n",
       "1     True      True  \n",
       "2     True      True  \n",
       "3     True      True  \n",
       "4     True     False  "
      ]
     },
     "execution_count": 3,
     "metadata": {},
     "output_type": "execute_result"
    }
   ],
   "source": [
    "\n",
    "# Manejo de outliers en 'Precio' y 'mt2' (limitando al percentil 1 y 99)\n",
    "df['Precio'] = df['Precio'].clip(lower=df['Precio'].quantile(0.01), upper=df['Precio'].quantile(0.99))\n",
    "df['mt2'] = df['mt2'].clip(lower=df['mt2'].quantile(0.01), upper=df['mt2'].quantile(0.99))\n",
    "\n",
    "# Mostrar datos limpiados\n",
    "df.head()\n"
   ]
  },
  {
   "cell_type": "markdown",
   "id": "9b3e03a4",
   "metadata": {},
   "source": [
    "### Exportamos los datos ya procesados"
   ]
  },
  {
   "cell_type": "code",
   "execution_count": 4,
   "id": "b98abe02",
   "metadata": {},
   "outputs": [
    {
     "data": {
      "text/plain": [
       "'../data/processed/cleaned_ofertas_inmobiliarias.csv'"
      ]
     },
     "execution_count": 4,
     "metadata": {},
     "output_type": "execute_result"
    }
   ],
   "source": [
    "\n",
    "# Guardar datos limpiados en un CSV\n",
    "cleaned_csv_path = \"../data/processed/cleaned_ofertas_inmobiliarias.csv\"\n",
    "df.to_csv(cleaned_csv_path, index=False)\n",
    "cleaned_csv_path\n"
   ]
  }
 ],
 "metadata": {
  "kernelspec": {
   "display_name": "precio_alquileres_distrito_nacional",
   "language": "python",
   "name": "python3"
  },
  "language_info": {
   "codemirror_mode": {
    "name": "ipython",
    "version": 3
   },
   "file_extension": ".py",
   "mimetype": "text/x-python",
   "name": "python",
   "nbconvert_exporter": "python",
   "pygments_lexer": "ipython3",
   "version": "3.11.9"
  }
 },
 "nbformat": 4,
 "nbformat_minor": 5
}
