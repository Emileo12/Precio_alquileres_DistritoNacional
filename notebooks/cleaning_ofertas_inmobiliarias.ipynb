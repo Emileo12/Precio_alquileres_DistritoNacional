{
 "cells": [
  {
   "cell_type": "markdown",
   "id": "2b12a415",
   "metadata": {},
   "source": [
    "# Limpieza y Transformación de Datos de Ofertas Inmobiliarias\n",
    "\n",
    "Este notebook documenta el proceso de limpieza y transformación de datos para el conjunto de datos de ofertas inmobiliarias.\n",
    "Se abordan los siguientes pasos:\n",
    "1. Identificación y tratamiento de valores faltantes.\n",
    "2. Conversión de tipos de datos.\n",
    "3. Eliminación de duplicados.\n",
    "4. Tratamiento de outliers.\n",
    "5. Transformación adicional de los datos según sea necesario.\n"
   ]
  },
  {
   "cell_type": "code",
   "execution_count": null,
   "id": "c5b454a5",
   "metadata": {},
   "outputs": [],
   "source": [
    "```python\n",
    "import pandas as pd\n",
    "\n",
    "# Cargar el dataset\n",
    "file_path = 'ofertas_inmobiliarias.csv'\n",
    "df = pd.read_csv(file_path)\n",
    "\n",
    "# Mostrar las primeras filas\n",
    "df.head()\n",
    "```\n"
   ]
  },
  {
   "cell_type": "code",
   "execution_count": null,
   "id": "88c6caa3",
   "metadata": {},
   "outputs": [],
   "source": [
    "```python\n",
    "# Revisión de valores faltantes y tipos de datos\n",
    "missing_values = df.isnull().sum()\n",
    "data_types = df.dtypes\n",
    "\n",
    "missing_values, data_types\n",
    "```\n"
   ]
  },
  {
   "cell_type": "code",
   "execution_count": null,
   "id": "c591d673",
   "metadata": {},
   "outputs": [],
   "source": [
    "```python\n",
    "# Reemplazar 'N/D' con NaN para un mejor manejo\n",
    "df.replace('N/D', pd.NA, inplace=True)\n",
    "\n",
    "# Llenado de valores numéricos faltantes con la mediana\n",
    "numeric_columns = df.select_dtypes(include=['float64', 'int64']).columns\n",
    "df[numeric_columns] = df[numeric_columns].apply(lambda col: col.fillna(col.median()))\n",
    "\n",
    "# Llenado de valores categóricos faltantes con la moda\n",
    "categorical_columns = df.select_dtypes(include=['object']).columns\n",
    "df[categorical_columns] = df[categorical_columns].apply(lambda col: col.fillna(col.mode()[0]))\n",
    "\n",
    "# Convertir la columna 'Agno Construccion' a tipo entero\n",
    "df['Agno Construccion'] = pd.to_numeric(df['Agno Construccion'], errors='coerce').fillna(0).astype(int)\n",
    "\n",
    "# Remover duplicados\n",
    "df = df.drop_duplicates()\n",
    "\n",
    "# Manejo de outliers en 'Precio' y 'mt2' (limitando al percentil 1 y 99)\n",
    "df['Precio'] = df['Precio'].clip(lower=df['Precio'].quantile(0.01), upper=df['Precio'].quantile(0.99))\n",
    "df['mt2'] = df['mt2'].clip(lower=df['mt2'].quantile(0.01), upper=df['mt2'].quantile(0.99))\n",
    "\n",
    "# Mostrar datos limpiados\n",
    "df.head()\n",
    "```\n"
   ]
  },
  {
   "cell_type": "code",
   "execution_count": null,
   "id": "b98abe02",
   "metadata": {},
   "outputs": [],
   "source": [
    "```python\n",
    "# Guardar datos limpiados en un CSV\n",
    "cleaned_csv_path = \"cleaned_ofertas_inmobiliarias.csv\"\n",
    "df.to_csv(cleaned_csv_path, index=False)\n",
    "cleaned_csv_path\n",
    "```\n"
   ]
  }
 ],
 "metadata": {},
 "nbformat": 4,
 "nbformat_minor": 5
}
