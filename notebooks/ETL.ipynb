{
 "cells": [
  {
   "cell_type": "markdown",
   "metadata": {},
   "source": [
    "# Extraccion, transformacion y carga de datos"
   ]
  },
  {
   "cell_type": "markdown",
   "metadata": {},
   "source": [
    "### Importamos librerias"
   ]
  },
  {
   "cell_type": "code",
   "execution_count": 1,
   "metadata": {},
   "outputs": [],
   "source": [
    "import requests\n",
    "from bs4 import BeautifulSoup\n",
    "from requests.adapters import HTTPAdapter\n",
    "from requests.packages.urllib3.util.retry import Retry\n",
    "from modulos.data.webdriver import iniciar_chrome\n",
    "from modulos.utils.wait import *\n",
    "import pandas as pd\n",
    "import re\n",
    "import warnings\n",
    "\n",
    "warnings.filterwarnings('ignore') # Desactiva las advertencias en la caja de resultados"
   ]
  },
  {
   "cell_type": "code",
   "execution_count": 129,
   "metadata": {},
   "outputs": [
    {
     "name": "stdout",
     "output_type": "stream",
     "text": [
      "The autoreload extension is already loaded. To reload it, use:\n",
      "  %reload_ext autoreload\n"
     ]
    }
   ],
   "source": [
    "# Para recargar las librerias locales\n",
    "%load_ext autoreload\n",
    "%autoreload 2"
   ]
  },
  {
   "cell_type": "markdown",
   "metadata": {},
   "source": [
    "## Verifiquemos el sitio web\n"
   ]
  },
  {
   "cell_type": "markdown",
   "metadata": {},
   "source": [
    "Definimos url de la pagina a recabar informacion, y el user agent (requisito)"
   ]
  },
  {
   "cell_type": "code",
   "execution_count": 3,
   "metadata": {},
   "outputs": [],
   "source": [
    "url = \"https://www.supercasas.com/buscar/?do=1&ObjectType=123&PriceType=401&Locations=10005&PriceFrom=0.00&PriceTo=200000.00&SizeLotFrom=0&SizeLotTo=25000&OrderDirection=DESC&OrderColumn=Price&PagingPageSkip=0\"\n",
    "h = {\"user-agent\": \"Mozilla/5.0 (Windows NT 10.0; Win64; x64) AppleWebKit/537.36 (KHTML, like Gecko) Chrome/128.0.0.0 Safari/537.36\"}"
   ]
  },
  {
   "cell_type": "markdown",
   "metadata": {},
   "source": [
    "Verificamos el funcionamiento\n"
   ]
  },
  {
   "cell_type": "code",
   "execution_count": 4,
   "metadata": {},
   "outputs": [],
   "source": [
    "try:\n",
    "    res = requests.get(url=url,headers=h, timeout= 10)\n",
    "except TimeoutError:\n",
    "    print(\"La pagina no arroja resultados\")"
   ]
  },
  {
   "cell_type": "code",
   "execution_count": 5,
   "metadata": {},
   "outputs": [
    {
     "name": "stdout",
     "output_type": "stream",
     "text": [
      "La solicitud ha sido aprovada con exito\n"
     ]
    }
   ],
   "source": [
    "\n",
    "if res.status_code <400 and res.ok == True:\n",
    "    print(\"La solicitud ha sido aprovada con exito\")\n",
    "else:\n",
    "    print(f\"Ha fallado\\n codigo:{res.status_code}\")"
   ]
  },
  {
   "cell_type": "markdown",
   "metadata": {},
   "source": [
    "Abrimos el codigo html para comprobar si estamos ubicados donde deseamos"
   ]
  },
  {
   "cell_type": "code",
   "execution_count": 6,
   "metadata": {},
   "outputs": [],
   "source": [
    "with open(\"../references/codigo_200.html\",\"w\",encoding=\"utf-8\") as f:\n",
    "    f.write(res.text)"
   ]
  },
  {
   "cell_type": "markdown",
   "metadata": {},
   "source": [
    "Al hacer Preview al archivo html podemos ver que estamos bien ubicados\n",
    "![image.png](img/PreviewHTML.png)"
   ]
  },
  {
   "cell_type": "markdown",
   "metadata": {},
   "source": [
    "## Extraccion"
   ]
  },
  {
   "cell_type": "markdown",
   "metadata": {},
   "source": [
    "Iniciamos el bucle \"for\" para recolectar todas las paginas de oferta del portal, esto podemos hacerlo creando una lista con las url de las 41 paginas de ofertas \n",
    "\n"
   ]
  },
  {
   "cell_type": "code",
   "execution_count": 7,
   "metadata": {},
   "outputs": [
    {
     "name": "stdout",
     "output_type": "stream",
     "text": [
      "['https://www.supercasas.com/buscar/?do=1&ObjectType=123&PriceType=401&Locations=10005&PriceFrom=0.00&PriceTo=200000.00&SizeLotFrom=0&SizeLotTo=25000&OrderColumn=Price&PagingPageSkip=0', 'https://www.supercasas.com/buscar/?do=1&ObjectType=123&PriceType=401&Locations=10005&PriceFrom=0.00&PriceTo=200000.00&SizeLotFrom=0&SizeLotTo=25000&OrderColumn=Price&PagingPageSkip=1', 'https://www.supercasas.com/buscar/?do=1&ObjectType=123&PriceType=401&Locations=10005&PriceFrom=0.00&PriceTo=200000.00&SizeLotFrom=0&SizeLotTo=25000&OrderColumn=Price&PagingPageSkip=2', 'https://www.supercasas.com/buscar/?do=1&ObjectType=123&PriceType=401&Locations=10005&PriceFrom=0.00&PriceTo=200000.00&SizeLotFrom=0&SizeLotTo=25000&OrderColumn=Price&PagingPageSkip=3', 'https://www.supercasas.com/buscar/?do=1&ObjectType=123&PriceType=401&Locations=10005&PriceFrom=0.00&PriceTo=200000.00&SizeLotFrom=0&SizeLotTo=25000&OrderColumn=Price&PagingPageSkip=4', 'https://www.supercasas.com/buscar/?do=1&ObjectType=123&PriceType=401&Locations=10005&PriceFrom=0.00&PriceTo=200000.00&SizeLotFrom=0&SizeLotTo=25000&OrderColumn=Price&PagingPageSkip=5', 'https://www.supercasas.com/buscar/?do=1&ObjectType=123&PriceType=401&Locations=10005&PriceFrom=0.00&PriceTo=200000.00&SizeLotFrom=0&SizeLotTo=25000&OrderColumn=Price&PagingPageSkip=6', 'https://www.supercasas.com/buscar/?do=1&ObjectType=123&PriceType=401&Locations=10005&PriceFrom=0.00&PriceTo=200000.00&SizeLotFrom=0&SizeLotTo=25000&OrderColumn=Price&PagingPageSkip=7', 'https://www.supercasas.com/buscar/?do=1&ObjectType=123&PriceType=401&Locations=10005&PriceFrom=0.00&PriceTo=200000.00&SizeLotFrom=0&SizeLotTo=25000&OrderColumn=Price&PagingPageSkip=8', 'https://www.supercasas.com/buscar/?do=1&ObjectType=123&PriceType=401&Locations=10005&PriceFrom=0.00&PriceTo=200000.00&SizeLotFrom=0&SizeLotTo=25000&OrderColumn=Price&PagingPageSkip=9', 'https://www.supercasas.com/buscar/?do=1&ObjectType=123&PriceType=401&Locations=10005&PriceFrom=0.00&PriceTo=200000.00&SizeLotFrom=0&SizeLotTo=25000&OrderColumn=Price&PagingPageSkip=10', 'https://www.supercasas.com/buscar/?do=1&ObjectType=123&PriceType=401&Locations=10005&PriceFrom=0.00&PriceTo=200000.00&SizeLotFrom=0&SizeLotTo=25000&OrderColumn=Price&PagingPageSkip=11', 'https://www.supercasas.com/buscar/?do=1&ObjectType=123&PriceType=401&Locations=10005&PriceFrom=0.00&PriceTo=200000.00&SizeLotFrom=0&SizeLotTo=25000&OrderColumn=Price&PagingPageSkip=12', 'https://www.supercasas.com/buscar/?do=1&ObjectType=123&PriceType=401&Locations=10005&PriceFrom=0.00&PriceTo=200000.00&SizeLotFrom=0&SizeLotTo=25000&OrderColumn=Price&PagingPageSkip=13', 'https://www.supercasas.com/buscar/?do=1&ObjectType=123&PriceType=401&Locations=10005&PriceFrom=0.00&PriceTo=200000.00&SizeLotFrom=0&SizeLotTo=25000&OrderColumn=Price&PagingPageSkip=14', 'https://www.supercasas.com/buscar/?do=1&ObjectType=123&PriceType=401&Locations=10005&PriceFrom=0.00&PriceTo=200000.00&SizeLotFrom=0&SizeLotTo=25000&OrderColumn=Price&PagingPageSkip=15', 'https://www.supercasas.com/buscar/?do=1&ObjectType=123&PriceType=401&Locations=10005&PriceFrom=0.00&PriceTo=200000.00&SizeLotFrom=0&SizeLotTo=25000&OrderColumn=Price&PagingPageSkip=16', 'https://www.supercasas.com/buscar/?do=1&ObjectType=123&PriceType=401&Locations=10005&PriceFrom=0.00&PriceTo=200000.00&SizeLotFrom=0&SizeLotTo=25000&OrderColumn=Price&PagingPageSkip=17', 'https://www.supercasas.com/buscar/?do=1&ObjectType=123&PriceType=401&Locations=10005&PriceFrom=0.00&PriceTo=200000.00&SizeLotFrom=0&SizeLotTo=25000&OrderColumn=Price&PagingPageSkip=18', 'https://www.supercasas.com/buscar/?do=1&ObjectType=123&PriceType=401&Locations=10005&PriceFrom=0.00&PriceTo=200000.00&SizeLotFrom=0&SizeLotTo=25000&OrderColumn=Price&PagingPageSkip=19', 'https://www.supercasas.com/buscar/?do=1&ObjectType=123&PriceType=401&Locations=10005&PriceFrom=0.00&PriceTo=200000.00&SizeLotFrom=0&SizeLotTo=25000&OrderColumn=Price&PagingPageSkip=20', 'https://www.supercasas.com/buscar/?do=1&ObjectType=123&PriceType=401&Locations=10005&PriceFrom=0.00&PriceTo=200000.00&SizeLotFrom=0&SizeLotTo=25000&OrderColumn=Price&PagingPageSkip=21', 'https://www.supercasas.com/buscar/?do=1&ObjectType=123&PriceType=401&Locations=10005&PriceFrom=0.00&PriceTo=200000.00&SizeLotFrom=0&SizeLotTo=25000&OrderColumn=Price&PagingPageSkip=22', 'https://www.supercasas.com/buscar/?do=1&ObjectType=123&PriceType=401&Locations=10005&PriceFrom=0.00&PriceTo=200000.00&SizeLotFrom=0&SizeLotTo=25000&OrderColumn=Price&PagingPageSkip=23', 'https://www.supercasas.com/buscar/?do=1&ObjectType=123&PriceType=401&Locations=10005&PriceFrom=0.00&PriceTo=200000.00&SizeLotFrom=0&SizeLotTo=25000&OrderColumn=Price&PagingPageSkip=24', 'https://www.supercasas.com/buscar/?do=1&ObjectType=123&PriceType=401&Locations=10005&PriceFrom=0.00&PriceTo=200000.00&SizeLotFrom=0&SizeLotTo=25000&OrderColumn=Price&PagingPageSkip=25', 'https://www.supercasas.com/buscar/?do=1&ObjectType=123&PriceType=401&Locations=10005&PriceFrom=0.00&PriceTo=200000.00&SizeLotFrom=0&SizeLotTo=25000&OrderColumn=Price&PagingPageSkip=26', 'https://www.supercasas.com/buscar/?do=1&ObjectType=123&PriceType=401&Locations=10005&PriceFrom=0.00&PriceTo=200000.00&SizeLotFrom=0&SizeLotTo=25000&OrderColumn=Price&PagingPageSkip=27', 'https://www.supercasas.com/buscar/?do=1&ObjectType=123&PriceType=401&Locations=10005&PriceFrom=0.00&PriceTo=200000.00&SizeLotFrom=0&SizeLotTo=25000&OrderColumn=Price&PagingPageSkip=28', 'https://www.supercasas.com/buscar/?do=1&ObjectType=123&PriceType=401&Locations=10005&PriceFrom=0.00&PriceTo=200000.00&SizeLotFrom=0&SizeLotTo=25000&OrderColumn=Price&PagingPageSkip=29', 'https://www.supercasas.com/buscar/?do=1&ObjectType=123&PriceType=401&Locations=10005&PriceFrom=0.00&PriceTo=200000.00&SizeLotFrom=0&SizeLotTo=25000&OrderColumn=Price&PagingPageSkip=30', 'https://www.supercasas.com/buscar/?do=1&ObjectType=123&PriceType=401&Locations=10005&PriceFrom=0.00&PriceTo=200000.00&SizeLotFrom=0&SizeLotTo=25000&OrderColumn=Price&PagingPageSkip=31', 'https://www.supercasas.com/buscar/?do=1&ObjectType=123&PriceType=401&Locations=10005&PriceFrom=0.00&PriceTo=200000.00&SizeLotFrom=0&SizeLotTo=25000&OrderColumn=Price&PagingPageSkip=32', 'https://www.supercasas.com/buscar/?do=1&ObjectType=123&PriceType=401&Locations=10005&PriceFrom=0.00&PriceTo=200000.00&SizeLotFrom=0&SizeLotTo=25000&OrderColumn=Price&PagingPageSkip=33', 'https://www.supercasas.com/buscar/?do=1&ObjectType=123&PriceType=401&Locations=10005&PriceFrom=0.00&PriceTo=200000.00&SizeLotFrom=0&SizeLotTo=25000&OrderColumn=Price&PagingPageSkip=34', 'https://www.supercasas.com/buscar/?do=1&ObjectType=123&PriceType=401&Locations=10005&PriceFrom=0.00&PriceTo=200000.00&SizeLotFrom=0&SizeLotTo=25000&OrderColumn=Price&PagingPageSkip=35', 'https://www.supercasas.com/buscar/?do=1&ObjectType=123&PriceType=401&Locations=10005&PriceFrom=0.00&PriceTo=200000.00&SizeLotFrom=0&SizeLotTo=25000&OrderColumn=Price&PagingPageSkip=36', 'https://www.supercasas.com/buscar/?do=1&ObjectType=123&PriceType=401&Locations=10005&PriceFrom=0.00&PriceTo=200000.00&SizeLotFrom=0&SizeLotTo=25000&OrderColumn=Price&PagingPageSkip=37', 'https://www.supercasas.com/buscar/?do=1&ObjectType=123&PriceType=401&Locations=10005&PriceFrom=0.00&PriceTo=200000.00&SizeLotFrom=0&SizeLotTo=25000&OrderColumn=Price&PagingPageSkip=38', 'https://www.supercasas.com/buscar/?do=1&ObjectType=123&PriceType=401&Locations=10005&PriceFrom=0.00&PriceTo=200000.00&SizeLotFrom=0&SizeLotTo=25000&OrderColumn=Price&PagingPageSkip=39', 'https://www.supercasas.com/buscar/?do=1&ObjectType=123&PriceType=401&Locations=10005&PriceFrom=0.00&PriceTo=200000.00&SizeLotFrom=0&SizeLotTo=25000&OrderColumn=Price&PagingPageSkip=40', 'https://www.supercasas.com/buscar/?do=1&ObjectType=123&PriceType=401&Locations=10005&PriceFrom=0.00&PriceTo=200000.00&SizeLotFrom=0&SizeLotTo=25000&OrderColumn=Price&PagingPageSkip=41']\n"
     ]
    }
   ],
   "source": [
    "# URL base con el marcador {page} donde se insertará el número de página\n",
    "url_base = \"https://www.supercasas.com/buscar/?do=1&ObjectType=123&PriceType=401&Locations=10005&PriceFrom=0.00&PriceTo=200000.00&SizeLotFrom=0&SizeLotTo=25000&OrderColumn=Price&PagingPageSkip={page}\"\n",
    "h = {\"user-agent\": \"Mozilla/5.0 (Windows NT 10.0; Win64; x64) AppleWebKit/537.36 (KHTML, like Gecko) Chrome/128.0.0.0 Safari/537.36\"}\n",
    "# Lista para almacenar las URLs\n",
    "ofertas = []\n",
    "\n",
    "# Bucle para crear las URLs cambiando el valor de 'PagingPageSkip' de 0 a 41\n",
    "for i in range(42):\n",
    "    # Reemplaza {page} con el valor de i\n",
    "    url = url_base.format(page=i)\n",
    "    # Agrega la URL generada a la lista\n",
    "    ofertas.append(url)\n",
    "\n",
    "# Imprime la lista de URLs\n",
    "print(ofertas)"
   ]
  },
  {
   "cell_type": "code",
   "execution_count": 8,
   "metadata": {},
   "outputs": [],
   "source": [
    "# Lista para guardar los enlaces de las ofertas\n",
    "enlaces_ofertas = []\n",
    "\n",
    "# Bucle para recorrer cada URL\n",
    "for url in ofertas:\n",
    "    # Realiza una solicitud GET a la URL\n",
    "    response = requests.get(url, headers=h)\n",
    "    pausa()\n",
    "    # Verifica si la solicitud fue exitosa\n",
    "    if response.status_code < 300:\n",
    "        # Analiza el contenido HTML de la página\n",
    "        soup = BeautifulSoup(response.text, 'html.parser')\n",
    "        \n",
    "        # Encuentra el contenedor de resultados\n",
    "        contenedor_resultados = soup.find('div', id='bigsearch-results-inner-results')\n",
    "        \n",
    "        if contenedor_resultados:\n",
    "            # Encuentra todas las etiquetas <li> dentro del contenedor\n",
    "            ofertas = contenedor_resultados.find_all('li')\n",
    "            # Recorre cada oferta y extrae el enlace del bloque <a>\n",
    "            for oferta in ofertas:\n",
    "                enlace = oferta.find('a', href=True)\n",
    "                if enlace:\n",
    "                    # Obtiene el atributo href y lo agrega a la lista\n",
    "                    url_completo = \"https://supercasas.com\" + enlace['href']\n",
    "                    enlaces_ofertas.append(url_completo)\n",
    "                    \n",
    "\n"
   ]
  },
  {
   "cell_type": "code",
   "execution_count": 9,
   "metadata": {},
   "outputs": [
    {
     "name": "stdout",
     "output_type": "stream",
     "text": [
      "['https://supercasas.com/apartamentos-alquiler-el-millon/1367994/', 'https://supercasas.com/apartamentos-venta-y-alquiler-av--anacaona/1358370/', 'https://supercasas.com/apartamentos-venta-y-alquiler-av--anacaona/1357799/']\n"
     ]
    }
   ],
   "source": [
    "# Imprime la lista de enlaces de las ofertas\n",
    "print(enlaces_ofertas[:3]) # observamos que tenemos los enlaces funcionales, primeras 3\n",
    "\n"
   ]
  },
  {
   "cell_type": "code",
   "execution_count": 10,
   "metadata": {},
   "outputs": [
    {
     "name": "stdout",
     "output_type": "stream",
     "text": [
      "['https://supercasas.com/apartamentos-alquiler-centro-de-los-heroes/1366244/', 'https://supercasas.com/apartamentos-alquiler-30-de-mayo/1366238/', 'https://supercasas.com/apartamentos-alquiler-evaristo-morales/1366232/']\n"
     ]
    }
   ],
   "source": [
    "print(enlaces_ofertas[-3:]) #ultimas 3"
   ]
  },
  {
   "cell_type": "markdown",
   "metadata": {},
   "source": [
    "Comprobemos el tamaño que deberia ser la lista para verificar si no hay inciertos\n",
    "\n",
    "Segun calculos manuales si cada pagina contiene 24 ofertas y existen 42 paginas, tenemos que es 24 (ofertas) * 41 (paginas) + 16 que contiene la ultima pagina = 1000 ofertas"
   ]
  },
  {
   "cell_type": "code",
   "execution_count": 11,
   "metadata": {},
   "outputs": [
    {
     "name": "stdout",
     "output_type": "stream",
     "text": [
      "Si tiene 1000 ofertas\n"
     ]
    }
   ],
   "source": [
    "#Verifiquemos si enlaces_ofertas contiene 1000 elementos\n",
    "\n",
    "if len(enlaces_ofertas) == 1000:\n",
    "    print(\"Si tiene 1000 ofertas\")\n",
    "else:\n",
    "    print(f\"No tiene 1000 ofertas, tiene {len(enlaces_ofertas)} ofertas\")"
   ]
  },
  {
   "cell_type": "markdown",
   "metadata": {},
   "source": [
    "Ya tenemos extraido cada oferta de la pagina, creemos un dataset con la informacion especifica de cada oferta:\n",
    "metros cuadrados, sector, cantidad de baños, habitacion y parqueos, "
   ]
  },
  {
   "cell_type": "markdown",
   "metadata": {},
   "source": [
    "Variables a extraer:\n",
    "\n",
    "* precio\n",
    "* sector\n",
    "* habitaciones\n",
    "* baños (si es decimal, ej: x.5 , significara x baños y 1 medio baño)\n",
    "* parqueos\n",
    "* Condicion\n",
    "* Metros cuadrados (construccion)\n",
    "* nivel/piso (si es 0 sera considerado N/A)\n",
    "* Uso actual \n",
    "* Terreno (si es 0 sera considerado N/A)\n",
    "* ascensores (verificar si en comodidades aparece en caso de decir 0, solo se tomara en cuenta 1 si posee 0 si no)\n",
    "* Edificable (Si o No)\n",
    "* año de construccion (N/D es considerado N/A)\n",
    "* Posee planta electrica\n",
    "* Posee seguridad 24 horas\n",
    "* Posee control de Acceso\n",
    "* Posee piscina(palabras similares como jacuzzi y picuzzi seran considerados como piscina tambien)\n",
    "* Posee gimnasio (Gym o gimnasio)\n",
    "  "
   ]
  },
  {
   "cell_type": "code",
   "execution_count": 12,
   "metadata": {},
   "outputs": [
    {
     "name": "stdout",
     "output_type": "stream",
     "text": [
      "11000.0\n"
     ]
    }
   ],
   "source": [
    "#Ejemplo de sacar precio\n",
    "response =requests.get(enlaces_ofertas[2],headers=h)\n",
    "if response.status_code <300:\n",
    "    soup = BeautifulSoup(response.text, 'html.parser')\n",
    "    precio = soup.find('div', class_=\"detail-ad-info-specs-block main-info\").find('span', text= re.compile(r'^Alquiler')).find_parent('div').text \n",
    "    moneda = float(precio.split(\" \")[-1].split(\"/\")[0].replace(\",\",\"\"))\n",
    "    # soup.find busca en el selector la palabra Alquiler y la primera que encuentra extrae el precio. Si aparece \"alquiler\" y \"alquiler amueblado\" cogera el precio del alquiler e ignora el amueblado\n",
    "    pesos_a_dolar = 60 # tasa de cambio 1 dolar es 60 pesos\n",
    "    \n",
    "    if \"US$\" in precio:\n",
    "        dolares = moneda\n",
    "        print(dolares)\n",
    "    elif \"RD$\" in precio:\n",
    "        dolares = float(moneda/pesos_a_dolar) # transformamos pesos  adolares\n",
    "        print(dolares)\n",
    "    else:\n",
    "        dolares = None\n",
    "\n",
    "\n",
    "    "
   ]
  },
  {
   "cell_type": "code",
   "execution_count": 17,
   "metadata": {},
   "outputs": [],
   "source": [
    "#Ejemplo de sacar sector\n",
    "response = requests.get(enlaces_ofertas[7],headers=h)\n",
    "if response.status_code <300:\n",
    "    soup = BeautifulSoup(response.text, 'html.parser')\n",
    "    #Sacar cantidad de habitaciones, baños y parqueos\n",
    "    cantidad = soup.find(\"div\",class_= \"detail-ad-info-specs-block secondary-info\").find_all(\"div\")\n",
    "    habitaciones = int(cantidad[0].text.split(\" \")[0])\n",
    "    bagnos = float(cantidad[1].text.split(\" \")[0])\n",
    "    parqueos = int(cantidad[2].text.split(\" \")[0])\n",
    "\n",
    "    #print(parqueos)\n",
    "\n",
    "    #Sacar contenido de la tabla de 'Datos Generales'\n",
    "    tabla = soup.find(\"div\", id=\"detail-ad-info-specs\").find(\"table\")\n",
    "\n",
    "    sector = tabla.find('td',colspan = \"3\").text.split(\">\")[-1]\n",
    "    condicion = soup.find('td', text=lambda text: text and \"Condición:\" in text).find_parent('tr').find_all(\"td\")[1].text\n",
    "    uso_actual = soup.find('td', text=lambda text: text and \"Condición:\" in text).find_parent('tr').find_all(\"td\")[3].text\n",
    "    metrosC = float(soup.find('td', text=lambda text: text and \"Terreno:\" in text).find_parent('tr').find_all(\"td\")[1].string.split(\" \")[0])\n",
    "    terreno = float(soup.find('td', text=lambda text: text and \"Terreno:\" in text).find_parent('tr').find_all(\"td\")[3].string.split(\" \")[0])\n",
    "    piso = int(soup.find('td', text=lambda text: text and \"Ascensores:\" in text).find_parent('tr').find_all(\"td\")[1].text)\n",
    "\n",
    "    ascensores = int(soup.find('td', text=lambda text: text and \"Ascensores:\" in text).find_parent('tr').find_all(\"td\")[3].text)\n",
    "    ascensores = ascensores >=1\n",
    "\n",
    "    edificable = soup.find('td', text=lambda text: text and \"Edificable:\" in text).find_parent('tr').find_all(\"td\")[1].text\n",
    "\n",
    "    agno = soup.find('td', text=lambda text: text and \"Edificable:\" in text).find_parent('tr').find_all(\"td\")[3].text\n",
    "    if agno.isdigit():\n",
    "        agno = int(agno)\n",
    "\n",
    "    #print(agno)\n",
    "\n",
    "    #Extraer en la tabla comodidades\n",
    "\n",
    "    planta_electrica = seguridad = control_Acceso = piscina = gimnasio = False\n",
    "    try:\n",
    "        comodidades = soup.find('h3', text=lambda text: text and \"Comodidades:\" in text).find_parent('div').find_all(\"li\")\n",
    "        \n",
    "    \n",
    "        \n",
    "        #print(f\"ascensor es {ascensores}\")\n",
    "        for elemento in comodidades:\n",
    "            if \"Planta Eléctrica\" in elemento:\n",
    "                planta_electrica = True\n",
    "            elif \"Seguridad 24 Horas\" in elemento:\n",
    "                seguridad = True \n",
    "            elif \"Control de Acceso\" in elemento:\n",
    "                control_Acceso = True\n",
    "            elif \"Piscina\" in elemento or \"Jacuzzi\" in elemento or \"Picuzzi\" in elemento:\n",
    "                piscina = True\n",
    "            elif \"Gimnasio\" in elemento or \"Gym\" in elemento:\n",
    "                gimnasio = True\n",
    "            elif \"Ascensor\" in elemento:\n",
    "                ascensores = True\n",
    "    except:\n",
    "        pass\n",
    "        \n",
    "    try:\n",
    "        observaciones = soup.find('h3', text=lambda text: text and \"Observaciones:\" in text).find_parent('div').find(\"p\").text.lower()\n",
    "        \n",
    "        if \"planta eléctrica\" in observaciones:\n",
    "            planta_electrica = True\n",
    "        elif \"seguridad 24 horas\" in observaciones:\n",
    "            seguridad = True \n",
    "        elif \"control de acceso\" in observaciones:\n",
    "            control_Acceso = True\n",
    "        elif \"piscina\" in observaciones or \"jacuzzi\" in observaciones or \"picuzzi\" in observaciones:\n",
    "            piscina = True\n",
    "        elif \"gimnasio\" in observaciones or \"gym\" in observaciones:\n",
    "            gimnasio = True\n",
    "        elif \"ascensor\" in observaciones or \"ascensores\" in observaciones:\n",
    "            ascensores = True\n",
    "\n",
    "\n",
    "    except:\n",
    "        pass\n",
    "\n",
    "\n",
    "    #lista = [planta_electrica,seguridad,control_Acceso,piscina,gimnasio]\n",
    "\n",
    "    #print(f\"ahora ascensor es {ascensores}\")\n",
    "    #print(lista)\n",
    "\n",
    "\n",
    "\n",
    "\n"
   ]
  },
  {
   "cell_type": "code",
   "execution_count": 22,
   "metadata": {},
   "outputs": [],
   "source": [
    "# Configurar un adaptador de reintentos\n",
    "session = requests.Session()\n",
    "retries = Retry(total=3, backoff_factor=1, status_forcelist=[500, 502, 503, 504, 10054])\n",
    "session.mount('http://', HTTPAdapter(max_retries=retries))\n",
    "session.mount('https://', HTTPAdapter(max_retries=retries))"
   ]
  },
  {
   "cell_type": "code",
   "execution_count": 23,
   "metadata": {},
   "outputs": [],
   "source": [
    "# Lista para almacenar los datos de cada oferta\n",
    "data = []\n",
    "\n",
    "# Bucle para recorrer cada enlace de la oferta\n",
    "for enlace in enlaces_ofertas:\n",
    "    # Realiza una solicitud GET al enlace de la oferta\n",
    "    pausa(0.5,2)\n",
    "    try:\n",
    "        # Realiza una solicitud GET al enlace de la oferta con la sesión configurada para reintentos\n",
    "        response = session.get(enlace, headers=h, timeout=10)\n",
    "        response.raise_for_status()  # Verifica si la solicitud fue exitosa\n",
    "    except requests.exceptions.RequestException as e:\n",
    "        print(f\"Error al acceder a {enlace}: {e}\")\n",
    "        continue  # Si hay un error, pasar al siguiente enlace\n",
    "\n",
    "\n",
    "    # Verifica si la solicitud fue exitosa\n",
    "    if response.status_code < 300:\n",
    "        # Analiza el contenido HTML de la página\n",
    "        soup = BeautifulSoup(response.text, 'html.parser')\n",
    "        \n",
    "        try:\n",
    "            # Extraer Precio\n",
    "            precio = soup.find('div', class_=\"detail-ad-info-specs-block main-info\").find('span', text= re.compile(r'^Alquiler')).find_parent('div').text \n",
    "            moneda = float(precio.split(\" \")[-1].split(\"/\")[0].replace(\",\",\"\"))\n",
    "            # soup.find busca en el selector la palabra Alquiler y la primera que encuentra extrae el precio. Si aparece \"alquiler\" y \"alquiler amueblado\" cogera el precio del alquiler e ignora el amueblado\n",
    "            pesos_a_dolar = 60 # tasa de cambio 1 dolar es 60 pesos\n",
    "        \n",
    "            if \"US$\" in precio:\n",
    "                dolares = moneda\n",
    "            elif \"RD$\" in precio:\n",
    "                dolares = float(moneda/pesos_a_dolar) # transformamos pesos  adolares\n",
    "            else:\n",
    "                dolares = None\n",
    "\n",
    "\n",
    "\n",
    "\n",
    "            # Extraer cantidad de habitaciones, baños y parqueos\n",
    "            cantidad = soup.find(\"div\",class_= \"detail-ad-info-specs-block secondary-info\").find_all(\"div\")\n",
    "            habitaciones = int(cantidad[0].text.split(\" \")[0])\n",
    "            bagnos = float(cantidad[1].text.split(\" \")[0])\n",
    "            parqueos = int(cantidad[2].text.split(\" \")[0])\n",
    "        except:\n",
    "            pass\n",
    "        \n",
    "        try:\n",
    "            # Extraer contenido de la tabla de 'Datos Generales'\n",
    "            tabla = soup.find(\"div\", id=\"detail-ad-info-specs\").find(\"table\")\n",
    "\n",
    "            sector = tabla.find('td',colspan = \"3\").text.split(\">\")[-1]\n",
    "            condicion = soup.find('td', text=lambda text: text and \"Condición:\" in text).find_parent('tr').find_all(\"td\")[1].text\n",
    "            uso_actual = soup.find('td', text=lambda text: text and \"Condición:\" in text).find_parent('tr').find_all(\"td\")[3].text\n",
    "            metrosC = float(soup.find('td', text=lambda text: text and \"Terreno:\" in text).find_parent('tr').find_all(\"td\")[1].string.split(\" \")[0])\n",
    "            terreno = float(soup.find('td', text=lambda text: text and \"Terreno:\" in text).find_parent('tr').find_all(\"td\")[3].string.split(\" \")[0])\n",
    "            piso = int(soup.find('td', text=lambda text: text and \"Ascensores:\" in text).find_parent('tr').find_all(\"td\")[1].text)\n",
    "\n",
    "            ascensores = int(soup.find('td', text=lambda text: text and \"Ascensores:\" in text).find_parent('tr').find_all(\"td\")[3].text)\n",
    "            ascensores = ascensores >=1\n",
    "\n",
    "            edificable = soup.find('td', text=lambda text: text and \"Edificable:\" in text).find_parent('tr').find_all(\"td\")[1].text\n",
    "\n",
    "            agno = soup.find('td', text=lambda text: text and \"Edificable:\" in text).find_parent('tr').find_all(\"td\")[3].text\n",
    "            if agno.isdigit():\n",
    "                agno = int(agno)\n",
    "\n",
    "        except:\n",
    "            pass\n",
    "        \n",
    "        # Extraer en la tabla comodidades\n",
    "\n",
    "        planta_electrica = seguridad = control_Acceso = piscina = gimnasio = False\n",
    "\n",
    "        try:\n",
    "            comodidades = soup.find('h3', text=lambda text: text and \"Comodidades:\" in text).find_parent('div').find_all(\"li\")\n",
    "        \n",
    "            \n",
    "        \n",
    "            for elemento in comodidades:\n",
    "                if \"Planta Eléctrica\" in elemento:\n",
    "                    planta_electrica = True\n",
    "                elif \"Seguridad 24 Horas\" in elemento:\n",
    "                    seguridad = True \n",
    "                elif \"Control de Acceso\" in elemento:\n",
    "                    control_Acceso = True\n",
    "                elif \"Piscina\" in elemento or \"Jacuzzi\" in elemento or \"Picuzzi\" in elemento:\n",
    "                    piscina = True\n",
    "                elif \"Gimnasio\" in elemento or \"Gym\" in elemento:\n",
    "                    gimnasio = True\n",
    "                elif \"Ascensor\" in elemento and ascensores == False:\n",
    "                    ascensores = True\n",
    "        except:\n",
    "            pass\n",
    "        \n",
    "        try:\n",
    "            observaciones = soup.find('h3', text=lambda text: text and \"Observaciones:\" in text).find_parent('div').find(\"p\").text.lower()\n",
    "            \n",
    "            if \"planta eléctrica\" in observaciones:\n",
    "                planta_electrica = True\n",
    "            elif \"seguridad 24 horas\" in observaciones:\n",
    "                seguridad = True \n",
    "            elif \"control de acceso\" in observaciones:\n",
    "                control_Acceso = True\n",
    "            elif \"piscina\" in observaciones or \"jacuzzi\" in observaciones or \"picuzzi\" in observaciones:\n",
    "                piscina = True\n",
    "            elif \"gimnasio\" in observaciones or \"gym\" in observaciones:\n",
    "                gimnasio = True\n",
    "            elif \"ascensor\" in observaciones or \"ascensores\" in observaciones:\n",
    "                ascensores = True\n",
    "\n",
    "\n",
    "        except:\n",
    "            pass\n",
    "\n",
    "\n",
    "        # Añade la información extraída como un registro en el dataset\n",
    "        data.append({\n",
    "            'Precio': dolares,\n",
    "            'Habitaciones': habitaciones,\n",
    "            'Baños': bagnos,\n",
    "            'Parqueos': parqueos,\n",
    "            'Sector': sector,\n",
    "            'Condicion': condicion,\n",
    "            'Uso Actual': uso_actual,\n",
    "            'mt2': metrosC,\n",
    "            'Terreno mt2': terreno,\n",
    "            'Piso/Nivel': piso,\n",
    "            'Ascensor': ascensores,\n",
    "            'Edificable': edificable,\n",
    "            'Agno Construccion': agno,\n",
    "            'Planta Electrica': planta_electrica,\n",
    "            'Seguridad 24 Horas': seguridad,\n",
    "            'Control de Acceso': control_Acceso,\n",
    "            'Piscina': piscina,\n",
    "            'Gimnasio': gimnasio \n",
    "            \n",
    "        })\n",
    "\n",
    "df = pd.DataFrame(data)\n",
    "df.to_csv('../data/raw/ofertas_inmobiliarias.csv', index=False, encoding='utf-8')"
   ]
  }
 ],
 "metadata": {
  "kernelspec": {
   "display_name": "env",
   "language": "python",
   "name": "python3"
  },
  "language_info": {
   "codemirror_mode": {
    "name": "ipython",
    "version": 3
   },
   "file_extension": ".py",
   "mimetype": "text/x-python",
   "name": "python",
   "nbconvert_exporter": "python",
   "pygments_lexer": "ipython3",
   "version": "3.11.9"
  }
 },
 "nbformat": 4,
 "nbformat_minor": 2
}
