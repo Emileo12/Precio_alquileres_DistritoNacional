{
 "cells": [
  {
   "cell_type": "markdown",
   "metadata": {},
   "source": [
    "# Extraccion, transformacion y carga de datos"
   ]
  },
  {
   "cell_type": "markdown",
   "metadata": {},
   "source": [
    "### Importamos librerias"
   ]
  },
  {
   "cell_type": "code",
   "execution_count": 1,
   "metadata": {},
   "outputs": [],
   "source": [
    "import requests\n",
    "from bs4 import BeautifulSoup\n",
    "from modulos.data.webdriver import iniciar_chrome\n",
    "from modulos.utils.wait import *\n",
    "import pandas as pd"
   ]
  },
  {
   "cell_type": "code",
   "execution_count": 2,
   "metadata": {},
   "outputs": [],
   "source": [
    "# Para recargar las librerias locales\n",
    "%load_ext autoreload\n",
    "%autoreload 2"
   ]
  },
  {
   "cell_type": "markdown",
   "metadata": {},
   "source": [
    "## Verifiquemos el sitio web\n"
   ]
  },
  {
   "cell_type": "markdown",
   "metadata": {},
   "source": [
    "Definimos url de la pagina a recabar informacion, y el user agent (requisito)"
   ]
  },
  {
   "cell_type": "code",
   "execution_count": 3,
   "metadata": {},
   "outputs": [],
   "source": [
    "url = \"https://www.supercasas.com/buscar/?do=1&ObjectType=123&PriceType=401&Locations=10005&PriceFrom=0.00&PriceTo=200000.00&SizeLotFrom=0&SizeLotTo=25000&OrderDirection=DESC&OrderColumn=Price&PagingPageSkip=0\"\n",
    "h = {\"user-agent\": \"Mozilla/5.0 (Windows NT 10.0; Win64; x64) AppleWebKit/537.36 (KHTML, like Gecko) Chrome/128.0.0.0 Safari/537.36\"}"
   ]
  },
  {
   "cell_type": "markdown",
   "metadata": {},
   "source": [
    "Verificamos el funcionamiento\n"
   ]
  },
  {
   "cell_type": "code",
   "execution_count": 4,
   "metadata": {},
   "outputs": [],
   "source": [
    "try:\n",
    "    res = requests.get(url=url,headers=h, timeout= 10)\n",
    "except TimeoutError:\n",
    "    print(\"La pagina no arroja resultados\")"
   ]
  },
  {
   "cell_type": "code",
   "execution_count": 5,
   "metadata": {},
   "outputs": [
    {
     "name": "stdout",
     "output_type": "stream",
     "text": [
      "La solicitud ha sido aprovada con exito\n"
     ]
    }
   ],
   "source": [
    "\n",
    "if res.status_code <400 and res.ok == True:\n",
    "    print(\"La solicitud ha sido aprovada con exito\")\n",
    "else:\n",
    "    print(f\"Ha fallado\\n codigo:{res.status_code}\")"
   ]
  },
  {
   "cell_type": "markdown",
   "metadata": {},
   "source": [
    "Abrimos el codigo html para comprobar si estamos ubicados donde deseamos"
   ]
  },
  {
   "cell_type": "code",
   "execution_count": 6,
   "metadata": {},
   "outputs": [],
   "source": [
    "with open(\"../references/codigo_200.html\",\"w\",encoding=\"utf-8\") as f:\n",
    "    f.write(res.text)"
   ]
  },
  {
   "cell_type": "markdown",
   "metadata": {},
   "source": [
    "Al hacer Preview al archivo html podemos ver que estamos bien ubicados\n",
    "![image.png](img/PreviewHTML.png)"
   ]
  },
  {
   "cell_type": "markdown",
   "metadata": {},
   "source": [
    "## Extraccion"
   ]
  },
  {
   "cell_type": "markdown",
   "metadata": {},
   "source": [
    "Iniciamos el bucle \"for\" para recolectar todas las paginas de oferta del portal, esto podemos hacerlo creando una lista con las url de las 41 paginas de ofertas \n",
    "\n"
   ]
  },
  {
   "cell_type": "code",
   "execution_count": 26,
   "metadata": {},
   "outputs": [
    {
     "name": "stdout",
     "output_type": "stream",
     "text": [
      "['https://www.supercasas.com/buscar/?do=1&ObjectType=123&PriceType=401&Locations=10005&PriceFrom=0.00&PriceTo=200000.00&SizeLotFrom=0&SizeLotTo=25000&OrderColumn=Price&PagingPageSkip=0', 'https://www.supercasas.com/buscar/?do=1&ObjectType=123&PriceType=401&Locations=10005&PriceFrom=0.00&PriceTo=200000.00&SizeLotFrom=0&SizeLotTo=25000&OrderColumn=Price&PagingPageSkip=1', 'https://www.supercasas.com/buscar/?do=1&ObjectType=123&PriceType=401&Locations=10005&PriceFrom=0.00&PriceTo=200000.00&SizeLotFrom=0&SizeLotTo=25000&OrderColumn=Price&PagingPageSkip=2', 'https://www.supercasas.com/buscar/?do=1&ObjectType=123&PriceType=401&Locations=10005&PriceFrom=0.00&PriceTo=200000.00&SizeLotFrom=0&SizeLotTo=25000&OrderColumn=Price&PagingPageSkip=3', 'https://www.supercasas.com/buscar/?do=1&ObjectType=123&PriceType=401&Locations=10005&PriceFrom=0.00&PriceTo=200000.00&SizeLotFrom=0&SizeLotTo=25000&OrderColumn=Price&PagingPageSkip=4', 'https://www.supercasas.com/buscar/?do=1&ObjectType=123&PriceType=401&Locations=10005&PriceFrom=0.00&PriceTo=200000.00&SizeLotFrom=0&SizeLotTo=25000&OrderColumn=Price&PagingPageSkip=5', 'https://www.supercasas.com/buscar/?do=1&ObjectType=123&PriceType=401&Locations=10005&PriceFrom=0.00&PriceTo=200000.00&SizeLotFrom=0&SizeLotTo=25000&OrderColumn=Price&PagingPageSkip=6', 'https://www.supercasas.com/buscar/?do=1&ObjectType=123&PriceType=401&Locations=10005&PriceFrom=0.00&PriceTo=200000.00&SizeLotFrom=0&SizeLotTo=25000&OrderColumn=Price&PagingPageSkip=7', 'https://www.supercasas.com/buscar/?do=1&ObjectType=123&PriceType=401&Locations=10005&PriceFrom=0.00&PriceTo=200000.00&SizeLotFrom=0&SizeLotTo=25000&OrderColumn=Price&PagingPageSkip=8', 'https://www.supercasas.com/buscar/?do=1&ObjectType=123&PriceType=401&Locations=10005&PriceFrom=0.00&PriceTo=200000.00&SizeLotFrom=0&SizeLotTo=25000&OrderColumn=Price&PagingPageSkip=9', 'https://www.supercasas.com/buscar/?do=1&ObjectType=123&PriceType=401&Locations=10005&PriceFrom=0.00&PriceTo=200000.00&SizeLotFrom=0&SizeLotTo=25000&OrderColumn=Price&PagingPageSkip=10', 'https://www.supercasas.com/buscar/?do=1&ObjectType=123&PriceType=401&Locations=10005&PriceFrom=0.00&PriceTo=200000.00&SizeLotFrom=0&SizeLotTo=25000&OrderColumn=Price&PagingPageSkip=11', 'https://www.supercasas.com/buscar/?do=1&ObjectType=123&PriceType=401&Locations=10005&PriceFrom=0.00&PriceTo=200000.00&SizeLotFrom=0&SizeLotTo=25000&OrderColumn=Price&PagingPageSkip=12', 'https://www.supercasas.com/buscar/?do=1&ObjectType=123&PriceType=401&Locations=10005&PriceFrom=0.00&PriceTo=200000.00&SizeLotFrom=0&SizeLotTo=25000&OrderColumn=Price&PagingPageSkip=13', 'https://www.supercasas.com/buscar/?do=1&ObjectType=123&PriceType=401&Locations=10005&PriceFrom=0.00&PriceTo=200000.00&SizeLotFrom=0&SizeLotTo=25000&OrderColumn=Price&PagingPageSkip=14', 'https://www.supercasas.com/buscar/?do=1&ObjectType=123&PriceType=401&Locations=10005&PriceFrom=0.00&PriceTo=200000.00&SizeLotFrom=0&SizeLotTo=25000&OrderColumn=Price&PagingPageSkip=15', 'https://www.supercasas.com/buscar/?do=1&ObjectType=123&PriceType=401&Locations=10005&PriceFrom=0.00&PriceTo=200000.00&SizeLotFrom=0&SizeLotTo=25000&OrderColumn=Price&PagingPageSkip=16', 'https://www.supercasas.com/buscar/?do=1&ObjectType=123&PriceType=401&Locations=10005&PriceFrom=0.00&PriceTo=200000.00&SizeLotFrom=0&SizeLotTo=25000&OrderColumn=Price&PagingPageSkip=17', 'https://www.supercasas.com/buscar/?do=1&ObjectType=123&PriceType=401&Locations=10005&PriceFrom=0.00&PriceTo=200000.00&SizeLotFrom=0&SizeLotTo=25000&OrderColumn=Price&PagingPageSkip=18', 'https://www.supercasas.com/buscar/?do=1&ObjectType=123&PriceType=401&Locations=10005&PriceFrom=0.00&PriceTo=200000.00&SizeLotFrom=0&SizeLotTo=25000&OrderColumn=Price&PagingPageSkip=19', 'https://www.supercasas.com/buscar/?do=1&ObjectType=123&PriceType=401&Locations=10005&PriceFrom=0.00&PriceTo=200000.00&SizeLotFrom=0&SizeLotTo=25000&OrderColumn=Price&PagingPageSkip=20', 'https://www.supercasas.com/buscar/?do=1&ObjectType=123&PriceType=401&Locations=10005&PriceFrom=0.00&PriceTo=200000.00&SizeLotFrom=0&SizeLotTo=25000&OrderColumn=Price&PagingPageSkip=21', 'https://www.supercasas.com/buscar/?do=1&ObjectType=123&PriceType=401&Locations=10005&PriceFrom=0.00&PriceTo=200000.00&SizeLotFrom=0&SizeLotTo=25000&OrderColumn=Price&PagingPageSkip=22', 'https://www.supercasas.com/buscar/?do=1&ObjectType=123&PriceType=401&Locations=10005&PriceFrom=0.00&PriceTo=200000.00&SizeLotFrom=0&SizeLotTo=25000&OrderColumn=Price&PagingPageSkip=23', 'https://www.supercasas.com/buscar/?do=1&ObjectType=123&PriceType=401&Locations=10005&PriceFrom=0.00&PriceTo=200000.00&SizeLotFrom=0&SizeLotTo=25000&OrderColumn=Price&PagingPageSkip=24', 'https://www.supercasas.com/buscar/?do=1&ObjectType=123&PriceType=401&Locations=10005&PriceFrom=0.00&PriceTo=200000.00&SizeLotFrom=0&SizeLotTo=25000&OrderColumn=Price&PagingPageSkip=25', 'https://www.supercasas.com/buscar/?do=1&ObjectType=123&PriceType=401&Locations=10005&PriceFrom=0.00&PriceTo=200000.00&SizeLotFrom=0&SizeLotTo=25000&OrderColumn=Price&PagingPageSkip=26', 'https://www.supercasas.com/buscar/?do=1&ObjectType=123&PriceType=401&Locations=10005&PriceFrom=0.00&PriceTo=200000.00&SizeLotFrom=0&SizeLotTo=25000&OrderColumn=Price&PagingPageSkip=27', 'https://www.supercasas.com/buscar/?do=1&ObjectType=123&PriceType=401&Locations=10005&PriceFrom=0.00&PriceTo=200000.00&SizeLotFrom=0&SizeLotTo=25000&OrderColumn=Price&PagingPageSkip=28', 'https://www.supercasas.com/buscar/?do=1&ObjectType=123&PriceType=401&Locations=10005&PriceFrom=0.00&PriceTo=200000.00&SizeLotFrom=0&SizeLotTo=25000&OrderColumn=Price&PagingPageSkip=29', 'https://www.supercasas.com/buscar/?do=1&ObjectType=123&PriceType=401&Locations=10005&PriceFrom=0.00&PriceTo=200000.00&SizeLotFrom=0&SizeLotTo=25000&OrderColumn=Price&PagingPageSkip=30', 'https://www.supercasas.com/buscar/?do=1&ObjectType=123&PriceType=401&Locations=10005&PriceFrom=0.00&PriceTo=200000.00&SizeLotFrom=0&SizeLotTo=25000&OrderColumn=Price&PagingPageSkip=31', 'https://www.supercasas.com/buscar/?do=1&ObjectType=123&PriceType=401&Locations=10005&PriceFrom=0.00&PriceTo=200000.00&SizeLotFrom=0&SizeLotTo=25000&OrderColumn=Price&PagingPageSkip=32', 'https://www.supercasas.com/buscar/?do=1&ObjectType=123&PriceType=401&Locations=10005&PriceFrom=0.00&PriceTo=200000.00&SizeLotFrom=0&SizeLotTo=25000&OrderColumn=Price&PagingPageSkip=33', 'https://www.supercasas.com/buscar/?do=1&ObjectType=123&PriceType=401&Locations=10005&PriceFrom=0.00&PriceTo=200000.00&SizeLotFrom=0&SizeLotTo=25000&OrderColumn=Price&PagingPageSkip=34', 'https://www.supercasas.com/buscar/?do=1&ObjectType=123&PriceType=401&Locations=10005&PriceFrom=0.00&PriceTo=200000.00&SizeLotFrom=0&SizeLotTo=25000&OrderColumn=Price&PagingPageSkip=35', 'https://www.supercasas.com/buscar/?do=1&ObjectType=123&PriceType=401&Locations=10005&PriceFrom=0.00&PriceTo=200000.00&SizeLotFrom=0&SizeLotTo=25000&OrderColumn=Price&PagingPageSkip=36', 'https://www.supercasas.com/buscar/?do=1&ObjectType=123&PriceType=401&Locations=10005&PriceFrom=0.00&PriceTo=200000.00&SizeLotFrom=0&SizeLotTo=25000&OrderColumn=Price&PagingPageSkip=37', 'https://www.supercasas.com/buscar/?do=1&ObjectType=123&PriceType=401&Locations=10005&PriceFrom=0.00&PriceTo=200000.00&SizeLotFrom=0&SizeLotTo=25000&OrderColumn=Price&PagingPageSkip=38', 'https://www.supercasas.com/buscar/?do=1&ObjectType=123&PriceType=401&Locations=10005&PriceFrom=0.00&PriceTo=200000.00&SizeLotFrom=0&SizeLotTo=25000&OrderColumn=Price&PagingPageSkip=39', 'https://www.supercasas.com/buscar/?do=1&ObjectType=123&PriceType=401&Locations=10005&PriceFrom=0.00&PriceTo=200000.00&SizeLotFrom=0&SizeLotTo=25000&OrderColumn=Price&PagingPageSkip=40', 'https://www.supercasas.com/buscar/?do=1&ObjectType=123&PriceType=401&Locations=10005&PriceFrom=0.00&PriceTo=200000.00&SizeLotFrom=0&SizeLotTo=25000&OrderColumn=Price&PagingPageSkip=41']\n"
     ]
    }
   ],
   "source": [
    "# URL base con el marcador {page} donde se insertará el número de página\n",
    "url_base = \"https://www.supercasas.com/buscar/?do=1&ObjectType=123&PriceType=401&Locations=10005&PriceFrom=0.00&PriceTo=200000.00&SizeLotFrom=0&SizeLotTo=25000&OrderColumn=Price&PagingPageSkip={page}\"\n",
    "\n",
    "# Lista para almacenar las URLs\n",
    "ofertas = []\n",
    "\n",
    "# Bucle para crear las URLs cambiando el valor de 'PagingPageSkip' de 0 a 41\n",
    "for i in range(42):\n",
    "    # Reemplaza {page} con el valor de i\n",
    "    url = url_base.format(page=i)\n",
    "    # Agrega la URL generada a la lista\n",
    "    ofertas.append(url)\n",
    "\n",
    "# Imprime la lista de URLs\n",
    "print(ofertas)"
   ]
  },
  {
   "cell_type": "code",
   "execution_count": 27,
   "metadata": {},
   "outputs": [],
   "source": [
    "# Lista para guardar los enlaces de las ofertas\n",
    "enlaces_ofertas = []\n",
    "\n",
    "# Bucle para recorrer cada URL\n",
    "for url in ofertas:\n",
    "    # Realiza una solicitud GET a la URL\n",
    "    response = requests.get(url, headers=h)\n",
    "    pausa()\n",
    "    # Verifica si la solicitud fue exitosa\n",
    "    if response.status_code < 300:\n",
    "        # Analiza el contenido HTML de la página\n",
    "        soup = BeautifulSoup(response.text, 'html.parser')\n",
    "        \n",
    "        # Encuentra el contenedor de resultados\n",
    "        contenedor_resultados = soup.find('div', id='bigsearch-results-inner-results')\n",
    "        \n",
    "        if contenedor_resultados:\n",
    "            # Encuentra todas las etiquetas <li> dentro del contenedor\n",
    "            ofertas = contenedor_resultados.find_all('li')\n",
    "            # Recorre cada oferta y extrae el enlace del bloque <a>\n",
    "            for oferta in ofertas:\n",
    "                enlace = oferta.find('a', href=True)\n",
    "                if enlace:\n",
    "                    # Obtiene el atributo href y lo agrega a la lista\n",
    "                    url_completo = \"https://supercasas.com\" + enlace['href']\n",
    "                    enlaces_ofertas.append(url_completo)\n",
    "                    \n",
    "\n"
   ]
  },
  {
   "cell_type": "code",
   "execution_count": 30,
   "metadata": {},
   "outputs": [
    {
     "name": "stdout",
     "output_type": "stream",
     "text": [
      "['https://supercasas.com/apartamentos-alquiler-el-millon/1367994/', 'https://supercasas.com/apartamentos-alquiler-zona-universitaria/1365908/', 'https://supercasas.com/apartamentos-venta-y-alquiler-av--anacaona/1358370/']\n"
     ]
    }
   ],
   "source": [
    "# Imprime la lista de enlaces de las ofertas\n",
    "print(enlaces_ofertas[:3]) # observamos que tenemos los enlaces funcionales, primeras 3\n",
    "\n"
   ]
  },
  {
   "cell_type": "code",
   "execution_count": 31,
   "metadata": {},
   "outputs": [
    {
     "name": "stdout",
     "output_type": "stream",
     "text": [
      "['https://supercasas.com/apartamentos-alquiler-bella-vista/1365839/', 'https://supercasas.com/apartamentos-alquiler-los-cacicazgos/1365838/', 'https://supercasas.com/apartamentos-alquiler-gazcue/1365830/']\n"
     ]
    }
   ],
   "source": [
    "print(enlaces_ofertas[-3:]) #ultimas 3"
   ]
  },
  {
   "cell_type": "markdown",
   "metadata": {},
   "source": [
    "Comprobemos el tamaño que deberia ser la lista para verificar si no hay inciertos\n",
    "\n",
    "Segun calculos manuales si cada pagina contiene 24 ofertas y existen 42 paginas, tenemos que es 24 (ofertas) * 41 (paginas) + 16 que contiene la ultima pagina = 1000 ofertas"
   ]
  },
  {
   "cell_type": "code",
   "execution_count": 32,
   "metadata": {},
   "outputs": [
    {
     "name": "stdout",
     "output_type": "stream",
     "text": [
      "Si tiene 1000 ofertas\n"
     ]
    }
   ],
   "source": [
    "#Verifiquemos si enlaces_ofertas contiene 1000 elementos\n",
    "\n",
    "if len(enlaces_ofertas) == 1000:\n",
    "    print(\"Si tiene 1000 ofertas\")\n",
    "else:\n",
    "    print(f\"No tiene 1000 ofertas, tiene {len(enlaces_ofertas)} ofertas\")"
   ]
  },
  {
   "cell_type": "markdown",
   "metadata": {},
   "source": [
    "Ya tenemos extraido cada oferta de la pagina, creemos un dataset con la informacion especifica de cada oferta:\n",
    "metros cuadrados, sector, cantidad de baños, habitacion y parqueos, "
   ]
  },
  {
   "cell_type": "code",
   "execution_count": null,
   "metadata": {},
   "outputs": [],
   "source": [
    "# Lista para almacenar los datos de cada oferta\n",
    "data = []\n",
    "\n",
    "# Bucle para recorrer cada enlace de la oferta\n",
    "for enlace in enlaces_ofertas:\n",
    "    # Realiza una solicitud GET al enlace de la oferta\n",
    "    response = requests.get(enlace,headers=h)\n",
    "    \n",
    "    # Verifica si la solicitud fue exitosa\n",
    "    if response.status_code < 300:\n",
    "        # Analiza el contenido HTML de la página\n",
    "        soup = BeautifulSoup(response.text, 'html.parser')\n",
    "        \n",
    "        \n",
    "        \n",
    "        # Añade la información extraída como un registro en el dataset\n",
    "        \"\"\"data.append({\n",
    "            'Sector': sector,\n",
    "            'Precio': precio,\n",
    "            'Habitaciones': habitaciones,\n",
    "            'Baños': baños,\n",
    "            'Parqueos': parqueos,\n",
    "            'Comodidades': comodidades,\n",
    "            'Observaciones': observaciones\n",
    "        }) \"\"\""
   ]
  }
 ],
 "metadata": {
  "kernelspec": {
   "display_name": "env",
   "language": "python",
   "name": "python3"
  },
  "language_info": {
   "codemirror_mode": {
    "name": "ipython",
    "version": 3
   },
   "file_extension": ".py",
   "mimetype": "text/x-python",
   "name": "python",
   "nbconvert_exporter": "python",
   "pygments_lexer": "ipython3",
   "version": "3.11.9"
  }
 },
 "nbformat": 4,
 "nbformat_minor": 2
}
